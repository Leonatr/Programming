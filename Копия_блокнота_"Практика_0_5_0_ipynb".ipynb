{
  "cells": [
    {
      "cell_type": "markdown",
      "metadata": {
        "id": "view-in-github",
        "colab_type": "text"
      },
      "source": [
        "<a href=\"https://colab.research.google.com/github/Leonatr/Programming/blob/main/%D0%9A%D0%BE%D0%BF%D0%B8%D1%8F_%D0%B1%D0%BB%D0%BE%D0%BA%D0%BD%D0%BE%D1%82%D0%B0_%22%D0%9F%D1%80%D0%B0%D0%BA%D1%82%D0%B8%D0%BA%D0%B0_0_5_0_ipynb%22.ipynb\" target=\"_parent\"><img src=\"https://colab.research.google.com/assets/colab-badge.svg\" alt=\"Open In Colab\"/></a>"
      ]
    },
    {
      "cell_type": "markdown",
      "metadata": {
        "id": "Bu5gIJfHNPHw"
      },
      "source": [
        "ФИО:"
      ]
    },
    {
      "cell_type": "code",
      "execution_count": null,
      "metadata": {
        "id": "CbHI8c7cM9Eg"
      },
      "outputs": [],
      "source": [
        "Леонов Илья Сергеевич"
      ]
    },
    {
      "cell_type": "markdown",
      "metadata": {
        "id": "VrNrBpmocGRd"
      },
      "source": [
        "# **Задание 1**"
      ]
    },
    {
      "cell_type": "markdown",
      "metadata": {
        "id": "XhV1bnm1bR2h"
      },
      "source": [
        "\n",
        "\n",
        "Дан словарь, содержащий имена и возраст людей, напишите программу выводящую возраст человека по имени\n",
        "\n",
        "Дано:\n",
        "\n",
        "```\n",
        "{\"Alice\": 25, \"Bob\": 30, \"Charlie\": 35}\n",
        "```\n",
        "\n",
        "Вввод:\n",
        "\n",
        "\n",
        "```\n",
        "Alice\n",
        "```\n",
        "\n",
        "Вывод:\n",
        "\n",
        "\n",
        "```\n",
        "Alice 25\n",
        "```\n"
      ]
    },
    {
      "cell_type": "code",
      "execution_count": null,
      "metadata": {
        "colab": {
          "base_uri": "https://localhost:8080/"
        },
        "id": "PElJj6DvsgjD",
        "outputId": "f80a345d-e470-42ac-a80f-0d1cad39ca1b"
      },
      "outputs": [
        {
          "name": "stdout",
          "output_type": "stream",
          "text": [
            "Введите имя: Alice\n",
            "Alice 25\n"
          ]
        }
      ],
      "source": [
        "\n",
        "dictionary = {\"Alice\": 25, \"Bob\": 30, \"Charlie\": 35}\n",
        "name = input('Введите имя: ')\n",
        "\n",
        "for i,y in dictionary.items():\n",
        "  if i == name:\n",
        "    print(i,y)\n"
      ]
    },
    {
      "cell_type": "markdown",
      "metadata": {
        "id": "lpjJz-_YcJ-t"
      },
      "source": [
        "# **Задание 2**\n"
      ]
    },
    {
      "cell_type": "markdown",
      "metadata": {
        "id": "tMEsAB4rUiWW"
      },
      "source": [
        "\n",
        "\n",
        "Дан список, состоящий из целых чисел, необходимо написать функцию считающую сумму всех положительных четных чисел списка\n",
        "\n",
        "Ввод:\n",
        "\n",
        "```\n",
        "1, 2, 3, 4, 5, 6, 7, 8, 9\n",
        "```\n",
        "\n",
        "Вывод:\n",
        "\n",
        "\n",
        "```\n",
        "20\n",
        "```\n",
        "\n",
        "***Запрещено:***\n",
        "\n",
        "*   Использование готовых функций для суммирования чисел\n"
      ]
    },
    {
      "cell_type": "code",
      "execution_count": null,
      "metadata": {
        "colab": {
          "base_uri": "https://localhost:8080/"
        },
        "id": "wDNUFLeqNQS_",
        "outputId": "95307a5b-ffb8-4592-d475-4c842bf97f36"
      },
      "outputs": [
        {
          "name": "stdout",
          "output_type": "stream",
          "text": [
            "Введите список чисел1, 2, 3, 4, 5, 6, 7, 8, 9\n",
            "20\n"
          ]
        }
      ],
      "source": [
        "listic = [int(i) for i in input('Введите список чисел через запятую: ').split(',') if int(i) >= 0 and int(i)%2 == 0]\n",
        "summ=0\n",
        "for i in listic:\n",
        "  summ+=i\n",
        "print(summ)"
      ]
    },
    {
      "cell_type": "markdown",
      "metadata": {
        "id": "WT_v-vz1dUZJ"
      },
      "source": [
        "# **Задание 3**"
      ]
    },
    {
      "cell_type": "markdown",
      "metadata": {
        "id": "ZI5Xeh2DdXgF"
      },
      "source": [
        "Дан словарь, содержащий название фрукта и его цвет, выведите список всех желтых фруктов\n",
        "\n",
        "\n",
        "Дано:\n",
        "\n",
        "```\n",
        "fruits_and_colors = {\n",
        "    \"apple\": \"red\",\n",
        "    \"banana\": \"yellow\",\n",
        "    \"mango\": \"yellow\",\n",
        "    \"orange\": \"orange\",\n",
        "    \"lemon\": \"yellow\",\n",
        "    \"grape\": \"purple\"\n",
        "}\n",
        "```\n",
        "\n",
        "Вывод:\n",
        "\n",
        "\n",
        "```\n",
        "Yellow fruits:\n",
        "banana\n",
        "lemon\n",
        "mango\n",
        "```\n",
        "\n"
      ]
    },
    {
      "cell_type": "code",
      "execution_count": null,
      "metadata": {
        "colab": {
          "base_uri": "https://localhost:8080/"
        },
        "id": "aNzFTkhKdkTG",
        "outputId": "573333de-27b5-44cd-d3a6-717ab0c3cdc7"
      },
      "outputs": [
        {
          "name": "stdout",
          "output_type": "stream",
          "text": [
            "Yellow fruits: \n",
            "banana\n",
            "mango\n",
            "lemon\n"
          ]
        }
      ],
      "source": [
        "fruits_and_colors = {\n",
        "    \"apple\": \"red\",\n",
        "    \"banana\": \"yellow\",\n",
        "    \"mango\": \"yellow\",\n",
        "    \"orange\": \"orange\",\n",
        "    \"lemon\": \"yellow\",\n",
        "    \"grape\": \"purple\"\n",
        "}\n",
        "print('Yellow fruits: ')\n",
        "for y, i in fruits_and_colors.items():\n",
        "  if i == 'yellow':\n",
        "    print(y)"
      ]
    },
    {
      "cell_type": "markdown",
      "metadata": {
        "id": "iHtMGt2icM7w"
      },
      "source": [
        "# **Задание 4**\n"
      ]
    },
    {
      "cell_type": "markdown",
      "metadata": {
        "id": "rS3THsnBQ_EB"
      },
      "source": [
        "\n",
        "\n",
        "Дан словарь, необходимо написать функцию меняющую ключ и значение местами\n",
        "\n",
        "Дано:\n",
        "\n",
        "\n",
        "```\n",
        "{\"a\": 1, \"b\": 2, \"c\": 3}\n",
        "```\n",
        "\n",
        "Вывод:\n",
        "\n",
        "```\n",
        "{1: 'a', 2: 'b', 3: 'c'}\n",
        "```\n",
        "\n"
      ]
    },
    {
      "cell_type": "code",
      "execution_count": null,
      "metadata": {
        "colab": {
          "base_uri": "https://localhost:8080/"
        },
        "id": "MNRusyLDcQ59",
        "outputId": "5f47cf2c-5090-4319-d4b2-8b7f985b6142"
      },
      "outputs": [
        {
          "name": "stdout",
          "output_type": "stream",
          "text": [
            "{1: 'a', 2: 'b', 3: 'c'}\n"
          ]
        }
      ],
      "source": [
        "def updater(dictionary):\n",
        "  temp_dictionary = {}\n",
        "\n",
        "  for keys, value in dictionary.items():\n",
        "    temp_dictionary[value] = keys\n",
        "\n",
        "  dictionary.clear()\n",
        "  dictionary.update(temp_dictionary)\n",
        "  return dictionary\n",
        "\n",
        "\n",
        "dictionary = {\"a\": 1, \"b\": 2, \"c\": 3}\n",
        "a = updater(dictionary)\n",
        "print(a)"
      ]
    },
    {
      "cell_type": "markdown",
      "metadata": {
        "id": "x6ff5nd0cUxD"
      },
      "source": [
        "# **Задание 5**"
      ]
    },
    {
      "cell_type": "markdown",
      "metadata": {
        "id": "ypQNHOG4NQz3"
      },
      "source": [
        "Дан список слов, неограниченной длинны, сформируйте словарь, где в качестве ключа будет слово, а в качестве значения количество слов\n",
        "\n",
        "**Критерии**\n",
        "\n",
        "\n",
        "*   Словарь необходимо отсортировать по убыванию количества элементов в списке.\n",
        "*   Подсчет элементов должен быть реализован в отдельной функции\n",
        "*   Сортировка пары `ключ:значение` должна быть реализована также в виде отдельной функции\n",
        "\n",
        "\n",
        "\n",
        "\n",
        "Дано:\n",
        "```\n",
        "['apple','banana','orange','apple','apple','banana']\n",
        "```\n",
        "\n",
        "\n",
        "Вывод:\n",
        "```\n",
        "{'apple':3, 'banana': 2, 'orange': 1}\n",
        "```\n",
        "\n",
        "***Запрещено:***\n",
        "\n",
        "*   Использование готовых функций для сортировки\n",
        "*   Использование готовых функций для подсчета элементов\n",
        "\n"
      ]
    },
    {
      "cell_type": "code",
      "execution_count": null,
      "metadata": {
        "colab": {
          "base_uri": "https://localhost:8080/"
        },
        "id": "J10PjdVQUbyq",
        "outputId": "39c8d2ef-1c63-43cd-8d64-49b652eabf46"
      },
      "outputs": [
        {
          "name": "stdout",
          "output_type": "stream",
          "text": [
            "{'apple': 3, 'banana': 2, 'orange': 1}\n"
          ]
        }
      ],
      "source": [
        "def max_keys(old_list):\n",
        "  maxi = 0\n",
        "  word_number = -1\n",
        "  for word_number in range(-1, len(old_list)-1):\n",
        "    count = 0\n",
        "    for i in old_list:\n",
        "      if i == old_list[word_number]:\n",
        "        count+=1\n",
        "      if count > maxi:\n",
        "        maxi = count\n",
        "        word = old_list[word_number]\n",
        "  return maxi, word\n",
        "\n",
        "def new_list(old_list):\n",
        "\n",
        "  new_list = {}\n",
        "  while old_list:\n",
        "    maxi = max_keys(old_list)[0]\n",
        "    word = max_keys(old_list)[1]\n",
        "    new_list[word] = maxi\n",
        "    while word in old_list:\n",
        "      old_list.remove(word)\n",
        "  return new_list\n",
        "\n",
        "\n",
        "old_list = ['apple','banana','orange','apple','apple','banana']\n",
        "\n",
        "\n",
        "print(new_list(old_list))"
      ]
    },
    {
      "cell_type": "markdown",
      "metadata": {
        "id": "d7fDUr2WcY_G"
      },
      "source": [
        "# **Задание 6**"
      ]
    },
    {
      "cell_type": "markdown",
      "metadata": {
        "id": "m11qdVhSWBi7"
      },
      "source": [
        "Дан словарь, содержащий информацию о людях, необходимо:\n",
        "\n",
        "\n",
        "\n",
        "*   Вывести всех людей старше 30 лет\n",
        "*   Вывести список городов и количество людей из словаря проживающих в них\n",
        "*   Вывести список профессий и список людей для каждой профессии\n",
        "\n",
        "**Критерии**\n",
        "\n",
        "Каждый из пунктов необходимо реализовать в виде функции\n",
        "\n"
      ]
    },
    {
      "cell_type": "code",
      "execution_count": null,
      "metadata": {
        "id": "lSNtB39OWtFl"
      },
      "outputs": [],
      "source": [
        "people_info = {\n",
        "    \"Alice\": {\"age\": 25, \"city\": \"New York\", \"occupation\": \"Engineer\"},\n",
        "    \"Bob\": {\"age\": 30, \"city\": \"Los Angeles\", \"occupation\": \"Designer\"},\n",
        "    \"Charlie\": {\"age\": 35, \"city\": \"Chicago\", \"occupation\": \"Teacher\"},\n",
        "    \"Diana\": {\"age\": 28, \"city\": \"Miami\", \"occupation\": \"Doctor\"},\n",
        "    \"Ethan\": {\"age\": 40, \"city\": \"Seattle\", \"occupation\": \"Chef\"},\n",
        "    \"Frank\": {\"age\": 32, \"city\": \"Atlanta\", \"occupation\": \"Lawyer\"},\n",
        "    \"Gabriella\": {\"age\": 29, \"city\": \"San Francisco\", \"occupation\": \"Software Engineer\"},\n",
        "    \"Harrison\": {\"age\": 38, \"city\": \"Denver\", \"occupation\": \"Architect\"},\n",
        "    \"Isabella\": {\"age\": 26, \"city\": \"Washington D.C.\", \"occupation\": \"Journalist\"},\n",
        "    \"Julian\": {\"age\": 42, \"city\": \"Miami\", \"occupation\": \"Musician\"},\n",
        "    \"Kate\": {\"age\": 31, \"city\": \"Philadelphia\", \"occupation\": \"Nurse\"},\n",
        "    \"Lucas\": {\"age\": 36, \"city\": \"Nashville\", \"occupation\": \"Businessman\"},\n",
        "    \"Mia\": {\"age\": 27, \"city\": \"Atlanta\", \"occupation\": \"Artist\"},\n",
        "    \"Natalie\": {\"age\": 39, \"city\": \"Portland\", \"occupation\": \"Writer\"},\n",
        "    \"Oliver\": {\"age\": 44, \"city\": \"Minneapolis\", \"occupation\": \"Professor\"},\n",
        "    \"Penelope\": {\"age\": 33, \"city\": \"San Diego\", \"occupation\": \"Marketing Manager\"},\n",
        "    \"Quincy\": {\"age\": 41, \"city\": \"Nashville\", \"occupation\": \"Singer\"},\n",
        "    \"Rachel\": {\"age\": 34, \"city\": \"Cleveland\", \"occupation\": \"Teacher\"},\n",
        "    \"Sophia\": {\"age\": 29, \"city\": \"Nashville\", \"occupation\": \"Engineer\"},\n",
        "    \"Tessa\": {\"age\": 37, \"city\": \"Miami\", \"occupation\": \"Lawyer\"}\n",
        "}"
      ]
    },
    {
      "cell_type": "code",
      "execution_count": null,
      "metadata": {
        "colab": {
          "base_uri": "https://localhost:8080/"
        },
        "id": "qcLO5eQwXkNK",
        "outputId": "f722e1d1-1b92-4b1d-959f-ceab42277384"
      },
      "outputs": [
        {
          "output_type": "stream",
          "name": "stdout",
          "text": [
            "Люди старше 30 лет: Charlie, Ethan, Frank, Harrison, Julian, Kate, Lucas, Natalie, Oliver, Penelope, Quincy, Rachel, Tessa\n",
            "{'New York': 1, 'Los Angeles': 1, 'Chicago': 1, 'Miami': 3, 'Seattle': 1, 'Atlanta': 2, 'San Francisco': 1, 'Denver': 1, 'Washington D.C.': 1, 'Philadelphia': 1, 'Nashville': 3, 'Portland': 1, 'Minneapolis': 1, 'San Diego': 1, 'Cleveland': 1}\n",
            "{'Engineer': ['Alice', 'Sophia'], 'Designer': ['Bob'], 'Teacher': ['Charlie', 'Rachel'], 'Doctor': ['Diana'], 'Chef': ['Ethan'], 'Lawyer': ['Frank', 'Tessa'], 'Software Engineer': ['Gabriella'], 'Architect': ['Harrison'], 'Journalist': ['Isabella'], 'Musician': ['Julian'], 'Nurse': ['Kate'], 'Businessman': ['Lucas'], 'Artist': ['Mia'], 'Writer': ['Natalie'], 'Professor': ['Oliver'], 'Marketing Manager': ['Penelope'], 'Singer': ['Quincy']}\n"
          ]
        }
      ],
      "source": [
        "\n",
        "def old(people_info):\n",
        "  listic = []\n",
        "  for z, i in people_info.items():\n",
        "    if i['age'] > 30:\n",
        "          listic.append(z)\n",
        "  print('Люди старше 30 лет:', ', '.join(listic))\n",
        "\n",
        "def city(people_info):\n",
        "  dict_city = {}\n",
        "  for k, v in people_info.items():\n",
        "    city = v['city']\n",
        "    if city in dict_city.keys():\n",
        "      dict_city[city] +=1\n",
        "    else:\n",
        "      dict_city[city] = 1\n",
        "  print(dict_city)\n",
        "\n",
        "def occupation(people_info):\n",
        "    dict_occupation = {}\n",
        "    dict_occupation_count = []\n",
        "\n",
        "    for k, v in people_info.items():\n",
        "         occupation = v['occupation']\n",
        "         if occupation not in dict_occupation_count:\n",
        "            dict_occupation_count.append(occupation)\n",
        "\n",
        "    while len(dict_occupation.keys()) != len(dict_occupation_count):\n",
        "      for value in people_info.values():\n",
        "        list_occupation = [value['occupation']]\n",
        "        list_occupation1 = []\n",
        "        for k, v in people_info.items():\n",
        "            occupation = v['occupation']\n",
        "            if occupation == list_occupation[0]:\n",
        "                list_occupation1.append(k)\n",
        "                dict_occupation[occupation] = list_occupation1\n",
        "\n",
        "    print(dict_occupation)\n",
        "\n",
        "people_info = {\n",
        "    \"Alice\": {\"age\": 25, \"city\": \"New York\", \"occupation\": \"Engineer\"},\n",
        "    \"Bob\": {\"age\": 30, \"city\": \"Los Angeles\", \"occupation\": \"Designer\"},\n",
        "    \"Charlie\": {\"age\": 35, \"city\": \"Chicago\", \"occupation\": \"Teacher\"},\n",
        "    \"Diana\": {\"age\": 28, \"city\": \"Miami\", \"occupation\": \"Doctor\"},\n",
        "    \"Ethan\": {\"age\": 40, \"city\": \"Seattle\", \"occupation\": \"Chef\"},\n",
        "    \"Frank\": {\"age\": 32, \"city\": \"Atlanta\", \"occupation\": \"Lawyer\"},\n",
        "    \"Gabriella\": {\"age\": 29, \"city\": \"San Francisco\", \"occupation\": \"Software Engineer\"},\n",
        "    \"Harrison\": {\"age\": 38, \"city\": \"Denver\", \"occupation\": \"Architect\"},\n",
        "    \"Isabella\": {\"age\": 26, \"city\": \"Washington D.C.\", \"occupation\": \"Journalist\"},\n",
        "    \"Julian\": {\"age\": 42, \"city\": \"Miami\", \"occupation\": \"Musician\"},\n",
        "    \"Kate\": {\"age\": 31, \"city\": \"Philadelphia\", \"occupation\": \"Nurse\"},\n",
        "    \"Lucas\": {\"age\": 36, \"city\": \"Nashville\", \"occupation\": \"Businessman\"},\n",
        "    \"Mia\": {\"age\": 27, \"city\": \"Atlanta\", \"occupation\": \"Artist\"},\n",
        "    \"Natalie\": {\"age\": 39, \"city\": \"Portland\", \"occupation\": \"Writer\"},\n",
        "    \"Oliver\": {\"age\": 44, \"city\": \"Minneapolis\", \"occupation\": \"Professor\"},\n",
        "    \"Penelope\": {\"age\": 33, \"city\": \"San Diego\", \"occupation\": \"Marketing Manager\"},\n",
        "    \"Quincy\": {\"age\": 41, \"city\": \"Nashville\", \"occupation\": \"Singer\"},\n",
        "    \"Rachel\": {\"age\": 34, \"city\": \"Cleveland\", \"occupation\": \"Teacher\"},\n",
        "    \"Sophia\": {\"age\": 29, \"city\": \"Nashville\", \"occupation\": \"Engineer\"},\n",
        "    \"Tessa\": {\"age\": 37, \"city\": \"Miami\", \"occupation\": \"Lawyer\"}\n",
        "}\n",
        "old(people_info)\n",
        "city(people_info)\n",
        "occupation(people_info)"
      ]
    },
    {
      "cell_type": "markdown",
      "metadata": {
        "id": "27IuB2YScezw"
      },
      "source": [
        "# **Задание 7**"
      ]
    },
    {
      "cell_type": "markdown",
      "metadata": {
        "id": "Fd95-S9cYhct"
      },
      "source": [
        "Задание: Разработка системы отзывов о предметах\n",
        "\n",
        "Описание: Создать программу на Python для хранения и управления отзывами о предметах учебного курса. Программа должна позволять пользователям добавлять, просматривать и удалять отзывы, а также вычислять средний балл по заданному предмету.\n",
        "\n",
        "**Функционал:**\n",
        "\n",
        "*   Добавление отзыва и оценки:\n",
        "   *   Пользователь может ввести название предмета, оценку (от 1 до 5) и текст отзыва.\n",
        "   *   Отзывы должны храниться в структуре данных (например, словаре), где ключом будет название предмета, а значением - список отзывов (каждый отзыв может хранить оценку и комментарий).\n",
        "*   Просмотр отзывов и оценок:\n",
        "   *   Пользователь может запросить отзывы для указанного предмета.\n",
        "   *   Если для указанного предмета есть отзывы, программа должна отобразить список всех отзывов и соответствующих оценок.\n",
        "*   Удаление отзыва:\n",
        "   *   Пользователь может удалить отзыв по индексу. Необходимо заранее уведомить пользователя о том, какие отзывы доступны для удаления.\n",
        "   *   Программа должна обработать ситуацию, когда индекс введен неправильно.\n",
        "*   Вычисление среднего балла по предмету:\n",
        "   *   Пользователь может ввести название предмета, и программа должна вычислить и вывести средний балл по всем отзывам для этого предмета.\n",
        "   *   Если отзывов нет, программа должна сообщить об этом.\n",
        "\n",
        "\n",
        "**Критерии:**\n",
        "\n",
        "*   Код должен быть оформлен в виде функций\n",
        "*   Необходимо обрабатывать неправильный ввод пользователя\n",
        "*   Должны быть комментарии к функциям\n",
        "*   Присутсвует весь дополнительный функционал\n",
        "\n",
        "\n",
        "\n",
        "**Опционально:**\n",
        "\n",
        "Предлагаю вам добавить свои критерии оценки или вопросы, на которые должен ответить студент, чтобы оценить пару\n",
        "\n",
        "\n"
      ]
    },
    {
      "cell_type": "code",
      "execution_count": null,
      "metadata": {
        "id": "kzucJrCUa0o7",
        "colab": {
          "base_uri": "https://localhost:8080/"
        },
        "outputId": "d4c9be4d-4a05-47aa-e7f5-2e857c4b09cd"
      },
      "outputs": [
        {
          "name": "stdout",
          "output_type": "stream",
          "text": [
            "\n",
            "Что вы хотите сделать:\n",
            "1. Написать отзыв\n",
            "2. Посмотреть отзывы на какой-нибудь предмет\n",
            "3. Удалить какой-нибудь отзыв\n",
            "4. Посмотреть среднюю оценку предмета\n",
            "5. Выйти из системы\n",
            "\n",
            "1\n",
            "Введите предмет:  математика\n",
            "Введите  оценку цифрой от 1 до 5: 5\n",
            "Введите отзыв: имба\n",
            "\n",
            "Что вы хотите сделать:\n",
            "1. Написать отзыв\n",
            "2. Посмотреть отзывы на какой-нибудь предмет\n",
            "3. Удалить какой-нибудь отзыв\n",
            "4. Посмотреть среднюю оценку предмета\n",
            "5. Выйти из системы\n",
            "\n",
            "1\n",
            "Введите предмет:  математика\n",
            "Введите  оценку цифрой от 1 до 5: 3\n",
            "Введите отзыв: такое\n",
            "\n",
            "Что вы хотите сделать:\n",
            "1. Написать отзыв\n",
            "2. Посмотреть отзывы на какой-нибудь предмет\n",
            "3. Удалить какой-нибудь отзыв\n",
            "4. Посмотреть среднюю оценку предмета\n",
            "5. Выйти из системы\n",
            "\n",
            "1\n",
            "Введите предмет:  математика\n",
            "Введите  оценку цифрой от 1 до 5: 2\n",
            "Введите отзыв: фигня\n",
            "\n",
            "Что вы хотите сделать:\n",
            "1. Написать отзыв\n",
            "2. Посмотреть отзывы на какой-нибудь предмет\n",
            "3. Удалить какой-нибудь отзыв\n",
            "4. Посмотреть среднюю оценку предмета\n",
            "5. Выйти из системы\n",
            "\n",
            "4\n",
            "Введите предмет, среднюю оценку которого хотите узнать: математика\n",
            "Средняя оценка предмета 3.33\n",
            "\n",
            "Что вы хотите сделать:\n",
            "1. Написать отзыв\n",
            "2. Посмотреть отзывы на какой-нибудь предмет\n",
            "3. Удалить какой-нибудь отзыв\n",
            "4. Посмотреть среднюю оценку предмета\n",
            "5. Выйти из системы\n",
            "\n",
            "5\n"
          ]
        }
      ],
      "source": [
        "def feedback(ratings_count, all_subject):\n",
        "    subject = input('Введите предмет:  ').lower()\n",
        "    all_subject.append(subject)\n",
        "    rating = input('Введите  оценку цифрой от 1 до 5: ')\n",
        "    review = input('Введите отзыв: ')\n",
        "    ratings_count.append(subject)\n",
        "    ratings_count.append(rating)\n",
        "    ratings_count.append(review)\n",
        "    #3 строчки сверху создают 1 общий список, который потом используется, для определения правильных оценок и отзывов на предмет\n",
        "\n",
        "def viewing_reviews():\n",
        "    review_request = input('Введите предмет, отзывы которого вы хотите посмотреть: ').lower()\n",
        "    number_review = 0\n",
        "    for i in range(len(ratings_count)):#Этот for проходится по всему общему списку и если предмет совпадает с предметом в списке, принтит оценку и отзыв\n",
        "        if ratings_count[i] == review_request:\n",
        "            number_review += 1\n",
        "            print(f'{number_review}. Оценка: {ratings_count[i+1]} звезды')#Так как сверху они все попорядку, то легко можно их выводить по индексу\n",
        "            print('Комментарий:', ratings_count[i+2])\n",
        "    if review_request not in all_subject:\n",
        "        print('На указанный вами предмет нет отзывов. ')\n",
        "\n",
        "def deleting_review():\n",
        "    subject_for_del = input('Введите предмет, в котом хотите удалить отзыв: ').lower()\n",
        "    list_deleted_rewiew = []#Список для того, чтобы в будущем найти отзыв, который нужно удалить\n",
        "\n",
        "    for i in range(len(ratings_count)):#Этот for проходится по всему общему списку и если предмет совпадает с предметом в списке, он добавляет все отзывы на этот предмет в list_deleted_rewiew\n",
        "        if ratings_count[i] == subject_for_del:\n",
        "            list_deleted_rewiew.append(ratings_count[i+2])\n",
        "\n",
        "    print('Все комментарии на предмет:')\n",
        "    number_review = 0\n",
        "    for i in range(len(ratings_count)):#Этот for проходится по всему общему списку и если предмет совпадает с предметом в списке, принтит оценку и отзыв, чтобы было легко понять, какой отзыв удалиться\n",
        "        if ratings_count[i] == subject_for_del:\n",
        "            number_review += 1\n",
        "            print(f'{number_review}. Оценка: {ratings_count[i+1]} звезды')\n",
        "            print('Комментарий:', ratings_count[i+2])\n",
        "\n",
        "    index_del_review = int(input('Введите номер отзыва, который вы хотите удалить: ')) - 1\n",
        "    del_review = list_deleted_rewiew[index_del_review]#В списке всех отзывов на предмет, находит именно тот, который надо удалить\n",
        "    number = ratings_count.index(del_review)#В самом главном списке всех предметов, оценок и отзывов находит индекс нужного отзыва\n",
        "    del ratings_count[number]#Удаляет сам отзыв\n",
        "    del ratings_count[number-1]#Удаляет оценку\n",
        "    del ratings_count[number-2]#Удаляет предмет\n",
        "\n",
        "    if subject_for_del not in ratings_count:#Если это был последний отзыв на этот предмет, также удаляет этот предмет из списка всех предметов\n",
        "      all_subject.remove(subject_for_del)\n",
        "\n",
        "    print('Отзыв удалён.')\n",
        "\n",
        "def average_score():\n",
        "    subject_score = input('Введите предмет, среднюю оценку которого хотите узнать: ').lower()\n",
        "    count = 0\n",
        "    score_summ = 0\n",
        "\n",
        "    for i in range(len(ratings_count)):#Этот for проходится по всему общему списку и если предмет совпадает с предметом в списке, то считает количество отзывов на предмет и сумму их оценов\n",
        "        if ratings_count[i] == subject_score:\n",
        "            count += 1\n",
        "            score_summ += int(ratings_count[i+1])\n",
        "    print('Средняя оценка предмета', round(score_summ/count,2))\n",
        "\n",
        "    if subject_score not in all_subject:\n",
        "        print('На указанный вами предмет нет отзывов. ')\n",
        "\n",
        "\n",
        "all_subject = []\n",
        "ratings_count=[]\n",
        "\n",
        "while True:\n",
        "  quest = input('''\n",
        "Что вы хотите сделать:\n",
        "1. Написать отзыв\n",
        "2. Посмотреть отзывы на какой-нибудь предмет\n",
        "3. Удалить какой-нибудь отзыв\n",
        "4. Посмотреть среднюю оценку предмета\n",
        "5. Выйти из системы\n",
        "\n",
        "''')\n",
        "  if quest == '1':\n",
        "    feedback(ratings_count, all_subject)\n",
        "  elif quest == '2':\n",
        "    viewing_reviews()\n",
        "  elif quest == '3':\n",
        "    deleting_review()\n",
        "  elif quest == '4':\n",
        "    average_score()\n",
        "  elif quest == '5':\n",
        "    break\n"
      ]
    }
  ],
  "metadata": {
    "colab": {
      "provenance": [],
      "include_colab_link": true
    },
    "kernelspec": {
      "display_name": "Python 3",
      "name": "python3"
    },
    "language_info": {
      "name": "python"
    }
  },
  "nbformat": 4,
  "nbformat_minor": 0
}