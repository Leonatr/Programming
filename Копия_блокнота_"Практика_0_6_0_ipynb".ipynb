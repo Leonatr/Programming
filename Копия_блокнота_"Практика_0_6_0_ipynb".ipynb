{
  "nbformat": 4,
  "nbformat_minor": 0,
  "metadata": {
    "colab": {
      "provenance": [],
      "include_colab_link": true
    },
    "kernelspec": {
      "name": "python3",
      "display_name": "Python 3"
    },
    "language_info": {
      "name": "python"
    }
  },
  "cells": [
    {
      "cell_type": "markdown",
      "metadata": {
        "id": "view-in-github",
        "colab_type": "text"
      },
      "source": [
        "<a href=\"https://colab.research.google.com/github/Leonatr/Programming/blob/main/%D0%9A%D0%BE%D0%BF%D0%B8%D1%8F_%D0%B1%D0%BB%D0%BE%D0%BA%D0%BD%D0%BE%D1%82%D0%B0_%22%D0%9F%D1%80%D0%B0%D0%BA%D1%82%D0%B8%D0%BA%D0%B0_0_6_0_ipynb%22.ipynb\" target=\"_parent\"><img src=\"https://colab.research.google.com/assets/colab-badge.svg\" alt=\"Open In Colab\"/></a>"
      ]
    },
    {
      "cell_type": "markdown",
      "source": [
        "\n",
        "\n",
        "---\n",
        "\n"
      ],
      "metadata": {
        "id": "tKNG_RzWxG6g"
      }
    },
    {
      "cell_type": "markdown",
      "source": [
        "# **Дисклеймер**\n",
        "\n",
        "В данной практике будет введен дополнительный критерий: чистота и читаемость кода, а также соблюдение правил описанных в начале практики"
      ],
      "metadata": {
        "id": "cFcrKfclKWh0"
      }
    },
    {
      "cell_type": "markdown",
      "source": [
        "\n",
        "\n",
        "---\n",
        "\n"
      ],
      "metadata": {
        "id": "0SnE87X1xDlV"
      }
    },
    {
      "cell_type": "markdown",
      "source": [
        "Леонов Илья Сергеевич"
      ],
      "metadata": {
        "id": "qAHTVfuppfj2"
      }
    },
    {
      "cell_type": "markdown",
      "source": [
        "# Задание 1\n",
        "\n",
        "**Задача:**\n",
        "\n",
        "Напишите функцию очищающий список от дубликтов\n",
        "\n",
        "\n",
        "*Запрещено:*\n",
        "\n",
        "*   Использовать set() или готовые функции очищающие список от дубликатов\n",
        "\n",
        "Вввод:\n",
        "\n",
        "```\n",
        "apple banana apple 1 3 4 4 5\n",
        "```\n",
        "\n",
        "\n",
        "Вывод:\n",
        "\n",
        "```\n",
        "apple banana 1 3 4 5\n",
        "```\n",
        "\n"
      ],
      "metadata": {
        "id": "VxawR9NubT_F"
      }
    },
    {
      "cell_type": "code",
      "source": [
        "word_list = input('Введите список слов: ').split()\n",
        "final_list = []\n",
        "\n",
        "for word in word_list:\n",
        "    if word not in final_list:\n",
        "        final_list.append(word)\n",
        "    else:\n",
        "        pass\n",
        "\n",
        "print(*final_list)"
      ],
      "metadata": {
        "id": "ml5gnbPXbeju",
        "colab": {
          "base_uri": "https://localhost:8080/"
        },
        "outputId": "44ec8463-f5f1-4b89-eea9-f5b840b1b782"
      },
      "execution_count": null,
      "outputs": [
        {
          "output_type": "stream",
          "name": "stdout",
          "text": [
            "Введите список слов: apple banana apple 1 3 4 4 5\n",
            "apple banana 1 3 4 5\n"
          ]
        }
      ]
    },
    {
      "cell_type": "markdown",
      "source": [
        "# Задание 2\n",
        "\n",
        "**Задача:**\n",
        "\n",
        "Написать функцию для нахождения простых чисел в диапазоне\n",
        "\n",
        "Ввод:\n",
        "\n",
        "```\n",
        "10, 50\n",
        "```\n",
        "\n",
        "Вывод:\n",
        "\n",
        "```\n",
        "11, 13, 17, 19, 23, 29, 31, 37, 41, 43, 47\n",
        "```"
      ],
      "metadata": {
        "id": "y05x0eD0cVCC"
      }
    },
    {
      "cell_type": "code",
      "source": [
        "str_numbers = input('Введите числа через запятую и пробел: ').split(',')\n",
        "int_numbers = [int(num) for num in str_numbers]\n",
        "final_list = []\n",
        "\n",
        "for s_num in range(int_numbers[0], int_numbers[1]+1):\n",
        "    for all_num in range(2, s_num):\n",
        "        if s_num % all_num != 0:\n",
        "            final_list.append(s_num)\n",
        "            while final_list.count(s_num) > 1:\n",
        "                final_list.remove(s_num)\n",
        "        else:\n",
        "            if s_num in final_list:\n",
        "                final_list.remove(s_num)\n",
        "            break\n",
        "\n",
        "print(*final_list)"
      ],
      "metadata": {
        "id": "XSMJnLgrc6Bf",
        "colab": {
          "base_uri": "https://localhost:8080/"
        },
        "outputId": "f673dc50-fc0f-4caf-f6bb-96aa4e82ca30"
      },
      "execution_count": null,
      "outputs": [
        {
          "output_type": "stream",
          "name": "stdout",
          "text": [
            "Введите числа через запятую и пробел: 10,50\n",
            "11 13 17 19 23 29 31 37 41 43 47\n"
          ]
        }
      ]
    },
    {
      "cell_type": "markdown",
      "source": [
        "# Задание 3\n",
        "\n",
        "Напишите функцию для объединения двух списков (список ключей и список значении) в словарь\n",
        "\n",
        "*Запрещено:*\n",
        "\n",
        "*   Использования готовых функции для объединения списков (пример: zip() )\n",
        "\n",
        "Дано:\n",
        "\n",
        "```\n",
        "keys = ['a', 'b', 'c', 'e' ]\n",
        "values = [1, 2, 3, 4]\n",
        "```\n",
        "\n",
        "Вывод:\n",
        "```\n",
        "{'a': 1, 'b': 2, 'c': 3, 'e': 4}\n",
        "```\n",
        "\n",
        "\n"
      ],
      "metadata": {
        "id": "vYM0LyxxdElN"
      }
    },
    {
      "cell_type": "code",
      "source": [
        "keys = ['a', 'b', 'c', 'e' ]\n",
        "values = [1, 2, 3, 4]\n",
        "final_list = {}\n",
        "num = 0\n",
        "\n",
        "for key in keys:\n",
        "    final_list[key] = values[num]\n",
        "    num+=1\n",
        "\n",
        "print(final_list)"
      ],
      "metadata": {
        "id": "CRvhHTjCdvjS",
        "colab": {
          "base_uri": "https://localhost:8080/"
        },
        "outputId": "26e0c78f-aa3e-42ba-de94-35c124b8f71a"
      },
      "execution_count": null,
      "outputs": [
        {
          "output_type": "stream",
          "name": "stdout",
          "text": [
            "{'a': 1, 'b': 2, 'c': 3, 'e': 4}\n"
          ]
        }
      ]
    },
    {
      "cell_type": "markdown",
      "source": [
        "# Задание 4\n",
        "\n",
        "Напишите функцию(ии) для подсчета статистических параметров:\n",
        "*   Сумму\n",
        "*   Среднее арифметическое\n",
        "*   Медиану\n",
        "*   Моду\n",
        "\n",
        "\n",
        "*Запрещено:*\n",
        "\n",
        "*   sum()\n",
        "*   sorted()\n",
        "*   и других функции предоставляющих готовое решение задания\n",
        "\n",
        "Дано:\n",
        "\n",
        "```\n",
        "numbers = [1, 2, 2, 3, 4, 5, 6, 7, 8 ,9 ,10]\n",
        "\n",
        "```\n",
        "\n",
        "Вывод:\n",
        "```\n",
        "{'mean': 5.181818181818182, 'median': 5, 'mode': 2, 'sum': 57}\n",
        "```\n"
      ],
      "metadata": {
        "id": "L_w8H8i-fQcP"
      }
    },
    {
      "cell_type": "code",
      "source": [
        "def summ_numbers(numbers):\n",
        "    summ = 0\n",
        "    for num in numbers:\n",
        "        summ+=num\n",
        "    return summ\n",
        "\n",
        "\n",
        "def average_summ(numbers):\n",
        "    count = 0\n",
        "    summ = 0\n",
        "\n",
        "    for num in numbers:\n",
        "        summ+=num\n",
        "        count+=1\n",
        "\n",
        "    average_summ = summ/count\n",
        "    return average_summ\n",
        "\n",
        "\n",
        "def median_numbers(numbers):\n",
        "    count = 0\n",
        "    for i in numbers:\n",
        "        count+=1\n",
        "\n",
        "    median = numbers[(count//2)]\n",
        "    return median\n",
        "\n",
        "\n",
        "def mode_numbers(numbers):\n",
        "    maxi = 0\n",
        "    mode = []#Список для случая с нескольким количеством 'модных' чисел\n",
        "    for main_num in numbers:\n",
        "        count = 0\n",
        "        for other_num in numbers:\n",
        "            if main_num == other_num:\n",
        "                count+=1\n",
        "                if count > 1 and count>=maxi:\n",
        "                    maxi = count\n",
        "                    if main_num not in mode:\n",
        "                        mode.append(main_num)\n",
        "    return mode\n",
        "\n",
        "numbers = [1, 2, 2, 3, 4, 5, 6, 7, 8 ,9 ,10]\n",
        "answer_dict = {}\n",
        "\n",
        "answer_dict['sum'] = summ_numbers(numbers)\n",
        "answer_dict['mean'] = average_summ(numbers)\n",
        "answer_dict['median'] = median_numbers(numbers)\n",
        "answer_dict['mode'] = mode_numbers(numbers)\n",
        "\n",
        "print(answer_dict)"
      ],
      "metadata": {
        "id": "dW6jW_rjfuba",
        "colab": {
          "base_uri": "https://localhost:8080/"
        },
        "outputId": "01895dd5-a6aa-43bd-db87-41de2057fef0"
      },
      "execution_count": null,
      "outputs": [
        {
          "output_type": "stream",
          "name": "stdout",
          "text": [
            "{'sum': 57, 'mean': 5.181818181818182, 'median': 5, 'mode': [2]}\n"
          ]
        }
      ]
    },
    {
      "cell_type": "markdown",
      "source": [
        "# Задание 5\n",
        "\n",
        "На ввод поступает строка символов. Строка состоит из слов, которые отделены друг от друга пробелами. Необходимо вывести самое длинное слово и его порядковый номер.\n",
        "\n",
        "*Запрещено:*\n",
        "\n",
        "*   len()\n",
        "\n",
        "Дано:\n",
        "\n",
        "```\n",
        "Страдание и боль всегда обязательны для широкого сознания и глубокого сердца.\n",
        "\n",
        "```\n",
        "\n",
        "Вывод:\n",
        "```\n",
        "Самое длинное слово с номером 5: обязательны\n",
        "```"
      ],
      "metadata": {
        "id": "hZW0NZ7SgTcp"
      }
    },
    {
      "cell_type": "code",
      "source": [
        "import string\n",
        "\n",
        "\n",
        "string_of_characters = input('Введите ваш текст: ')\n",
        "\n",
        "for sign in string.punctuation:\n",
        "    if sign in string_of_characters:\n",
        "        string_of_characters = string_of_characters.replace(sign, '')\n",
        "\n",
        "string_of_characters = string_of_characters.split()\n",
        "maxi = 0\n",
        "words_count = 0\n",
        "\n",
        "for i in string_of_characters:\n",
        "    words_count += 1\n",
        "\n",
        "for position in range(words_count):\n",
        "    letters_count = 0\n",
        "    for word in string_of_characters[position]:\n",
        "        letters_count+=1\n",
        "    if letters_count>maxi:\n",
        "        maxi = letters_count\n",
        "        max_word = string_of_characters[position]\n",
        "\n",
        "print(max_word)"
      ],
      "metadata": {
        "id": "rC5DpHHLsDYp",
        "colab": {
          "base_uri": "https://localhost:8080/"
        },
        "outputId": "6a599733-28e2-482b-aad5-c9936f6c6dcc"
      },
      "execution_count": null,
      "outputs": [
        {
          "output_type": "stream",
          "name": "stdout",
          "text": [
            "Введите ваш текст: Страдание и боль всегда обязательны для широкого сознания и глубокого сердца.\n",
            "обязательны\n"
          ]
        }
      ]
    },
    {
      "cell_type": "markdown",
      "source": [
        "# Задание 6\n",
        "\n",
        "Напишите программу, для управления оценками студентов, со следующими функциями:\n",
        "\n",
        "* Добавление информации о студенте и его оценках.\n",
        "* Подсчет среднего балла студента.\n",
        "* Получение списка всех студентов с их средними баллами.\n",
        "* Поиск студента по имени и вывод его оценок и среднего балла.\n",
        "\n",
        "\n",
        "\n"
      ],
      "metadata": {
        "id": "k5BzJW5ZeaQN"
      }
    },
    {
      "cell_type": "code",
      "source": [
        "def students_info(students):\n",
        "    name_student = input('Введите имя студента: ').lower()\n",
        "    grade_student = input('Введите оценки по предмету: ').split()\n",
        "    students[name_student] = grade_student\n",
        "\n",
        "\n",
        "def average_mark(students, position):\n",
        "    all_marks = []\n",
        "\n",
        "    #Создаёт список с оценками всех учеников\n",
        "    for marks in students.values():\n",
        "        all_marks.append(marks)\n",
        "\n",
        "    count = 0\n",
        "    sum_marks = 0\n",
        "\n",
        "    #Находит среднее значение каждого ученика\n",
        "    for num in all_marks[position[0]-1]:\n",
        "        sum_marks += int(num)\n",
        "        count += 1\n",
        "\n",
        "    average = sum_marks/count\n",
        "    return round(average, 2)\n",
        "\n",
        "\n",
        "def full_average(students):\n",
        "    position[0] = 0\n",
        "\n",
        "    for name in students.keys():\n",
        "        position[0] += 1\n",
        "        average = average_mark(students, position)\n",
        "        avermark_students[name] = average\n",
        "\n",
        "    return avermark_students\n",
        "\n",
        "\n",
        "def search_student(students):\n",
        "    name = input('Введите имя студента: ').lower()\n",
        "\n",
        "    for key, value in students.items():\n",
        "        if key == name:\n",
        "            print('Все оценки:', *value)\n",
        "\n",
        "    for key1, value1 in avermark_students.items():\n",
        "        if key1 == name:\n",
        "            print(f'Средний бал: {value1}')\n",
        "\n",
        "students = {}\n",
        "position = [0]\n",
        "avermark_students = {}\n",
        "\n",
        "while True:\n",
        "    question = input('''\n",
        "Что вы хотите сделать?\n",
        "1. Добавить информацию об ученике в базу данных\n",
        "2. Найти информацию об ученике по его имени\n",
        "3. Выйти из системы\n",
        "''')\n",
        "    if question == '1':\n",
        "        students_info(students)\n",
        "        full_average(students)\n",
        "    if question == '2':\n",
        "        search_student(students)\n",
        "    if question == '3':\n",
        "        break"
      ],
      "metadata": {
        "id": "cvhlltVbdyoL",
        "colab": {
          "base_uri": "https://localhost:8080/"
        },
        "outputId": "b267fdce-87d5-41eb-fd3c-dbe2b031abf4"
      },
      "execution_count": null,
      "outputs": [
        {
          "name": "stdout",
          "output_type": "stream",
          "text": [
            "\n",
            "Что вы хотите сделать?\n",
            "1. Добавить информацию об ученике в базу данных\n",
            "2. Найти информацию об ученике по его имени\n",
            "3. Выйти из системы\n",
            "1\n",
            "Введите имя студента: Илья\n",
            "Введите оценки по предмету: 4 5\n",
            "\n",
            "Что вы хотите сделать?\n",
            "1. Добавить информацию об ученике в базу данных\n",
            "2. Найти информацию об ученике по его имени\n",
            "3. Выйти из системы\n",
            "1\n",
            "Введите имя студента: Стас\n",
            "Введите оценки по предмету: 4 4 5\n",
            "\n",
            "Что вы хотите сделать?\n",
            "1. Добавить информацию об ученике в базу данных\n",
            "2. Найти информацию об ученике по его имени\n",
            "3. Выйти из системы\n",
            "2\n",
            "Введите имя студента: стас\n",
            "Все оценки: 4 4 5\n",
            "Средний бал: 4.33\n",
            "\n",
            "Что вы хотите сделать?\n",
            "1. Добавить информацию об ученике в базу данных\n",
            "2. Найти информацию об ученике по его имени\n",
            "3. Выйти из системы\n",
            "2\n",
            "Введите имя студента: илья\n",
            "Все оценки: 4 5\n",
            "Средний бал: 4.5\n",
            "\n",
            "Что вы хотите сделать?\n",
            "1. Добавить информацию об ученике в базу данных\n",
            "2. Найти информацию об ученике по его имени\n",
            "3. Выйти из системы\n",
            "3\n"
          ]
        }
      ]
    },
    {
      "cell_type": "markdown",
      "source": [
        "# Задание 7\n",
        "\n",
        "\n",
        "**Задача:**\n",
        "\n",
        "Создайте приложение-викторину с командной строкой, которое задает пользователям вопросы по различным темам и отслеживает их результаты.\n",
        "\n",
        "Ключевые особенности:\n",
        "\n",
        "*   Хранение данных о вопросах и ответах на них, а также баллов за каждый вопрос\n",
        "*   Реализуйте функцию для представления вопросов, принятия ответов пользователей и предоставления обратной связи о том, являются ли ответы правильными или неправильными.\n",
        "*  После завершения викторины отобразите общий балл пользователя из числа ответов на вопросы.\n",
        "*  Реализуйте функцию добавления нового вопроса\n",
        "*  Реализуйте функцию перемешивания вопросов, для отображения случайного вопроса\n"
      ],
      "metadata": {
        "id": "iQ8Z-7PYgu1_"
      }
    },
    {
      "cell_type": "code",
      "source": [
        "from random import randint\n",
        "\n",
        "\n",
        "def quest_answer(main_list):\n",
        "    count = 0\n",
        "\n",
        "    for quest in main_list:\n",
        "        print(quest[0])\n",
        "        person_answer = input('Введите ответ: ').lower()\n",
        "\n",
        "        if person_answer == quest[1]:\n",
        "            print(f'Верно, вы заработали {quest[2]} баллов\\n')\n",
        "            count += quest[2]\n",
        "\n",
        "        else:\n",
        "            print(f'К сожалению вы не правы\\n')\n",
        "\n",
        "    print(f'Поздравляю, вы прошли викторину и заработали {count} баллов')\n",
        "\n",
        "\n",
        "def new_quest(main_list):\n",
        "    temporary_list =[]\n",
        "    question = input('Введите ваш вопрос: ')\n",
        "    answer = input('Введите ответ на ваш вопрос: ').lower()\n",
        "    reward = int(input('Введите количество баллов, которое человек получит за ответ (просто число): '))\n",
        "\n",
        "    #Добавляет во временный список всё содержимое из main списка, но разделяет на отдельные части\n",
        "    for quest in main_list:\n",
        "        for i in quest:\n",
        "            temporary_list.append(i)\n",
        "\n",
        "    #Добавляет новый вопрос, ответ и количество баллов в список\n",
        "    temporary_list.append(question)\n",
        "    temporary_list.append(answer)\n",
        "    temporary_list.append(reward)\n",
        "\n",
        "    main_list.clear()\n",
        "    start = 0\n",
        "    finish = 3\n",
        "\n",
        "    #Возвращает все отдельные части в main список снова соединяя их\n",
        "    for y in range(len(temporary_list)//3):\n",
        "        new_list = temporary_list[start:finish]\n",
        "        main_list.append(new_list)\n",
        "        start+=3\n",
        "        finish+=3\n",
        "\n",
        "\n",
        "def mixed_questions(main_list):\n",
        "    temporary_list1 = []\n",
        "\n",
        "    #Создаёт список равный main\n",
        "    for i in main_list:\n",
        "        temporary_list1.append(i)\n",
        "\n",
        "    main_list.clear()\n",
        "\n",
        "    #рандомно перемешивает вопросы внутри главного списка\n",
        "    while len(temporary_list1) != len(main_list):\n",
        "        num = randint(0, len(temporary_list1)-1)\n",
        "        quest = temporary_list1[num]\n",
        "\n",
        "        if quest not in main_list:\n",
        "            main_list.append(quest)\n",
        "\n",
        "\n",
        "main_list = [['Её снимают при входе в мечеть?', 'обувь', 5],['Где находится резиденция римского папы?', 'ватикан', 10],['Сколько игроков в команде регбистов?', '15', 15],['Из неё делали знаменитую шагреневую кожу?', 'акула', 20],['Учёный, наиболее известным достижением которого стало «решето» для отсеивания простых чисел?', 'эратосфен', 25]]\n",
        "greeting = input(f'Здравствуйте, вы попали на викторину для детей, учащийся в школе. Вам предстоит ответить на {len(main_list)} вопросов (Все ответы писать в начальной форме). Начнём? ').lower()\n",
        "\n",
        "while True:\n",
        "    mixed_questions(main_list)\n",
        "\n",
        "    if greeting == 'да':\n",
        "        quest_answer(main_list)\n",
        "    elif greeting == 'нет':\n",
        "        break\n",
        "\n",
        "    add_quest = input('\\nХотите ли вы добавить вопрос в нашу викторину? ').lower()\n",
        "\n",
        "    if add_quest == 'да':\n",
        "        new_quest(main_list)\n",
        "        print('Ваш вопрос добавлен')\n",
        "        replay = input('\\nХотите пройти викторину ещё раз? ').lower()\n",
        "        if replay == 'нет':\n",
        "            break\n",
        "\n",
        "    elif add_quest == 'нет':\n",
        "        greeting = input('\\nХотите пройти викторину ещё раз? ').lower()\n",
        "        if greeting == 'нет':\n",
        "            break\n",
        "\n"
      ],
      "metadata": {
        "id": "DhxyYwHwh2V4",
        "colab": {
          "base_uri": "https://localhost:8080/"
        },
        "outputId": "1ac53029-ef59-4ac1-939c-a5c5b3cd9686"
      },
      "execution_count": null,
      "outputs": [
        {
          "name": "stdout",
          "output_type": "stream",
          "text": [
            "Здравствуйте, вы попали на викторину для детей, учащийся в школе. Вам предстоит ответить на 5 вопросов (Все ответы писать в начальной форме). Начнём? да\n",
            "Её снимают при входе в мечеть?\n",
            "Введите ответ: обувь\n",
            "Верно, вы заработали 5 баллов\n",
            "\n",
            "Из неё делали знаменитую шагреневую кожу?\n",
            "Введите ответ: акула\n",
            "Верно, вы заработали 20 баллов\n",
            "\n",
            "Где находится резиденция римского папы?\n",
            "Введите ответ: ватикан\n",
            "Верно, вы заработали 10 баллов\n",
            "\n",
            "Учёный, наиболее известным достижением которого стало «решето» для отсеивания простых чисел?\n",
            "Введите ответ: эратосфен\n",
            "Верно, вы заработали 25 баллов\n",
            "\n",
            "Сколько игроков в команде регбистов?\n",
            "Введите ответ: 15\n",
            "Верно, вы заработали 15 баллов\n",
            "\n",
            "Поздравляю, вы прошли викторину и заработали 75 баллов\n",
            "\n",
            "Хотите ли вы добавить вопрос в нашу викторину? нет\n",
            "\n",
            "Хотите пройти викторину ещё раз? нет\n"
          ]
        }
      ]
    },
    {
      "cell_type": "code",
      "source": [],
      "metadata": {
        "id": "j8JNNQZ50DSK"
      },
      "execution_count": null,
      "outputs": []
    }
  ]
}