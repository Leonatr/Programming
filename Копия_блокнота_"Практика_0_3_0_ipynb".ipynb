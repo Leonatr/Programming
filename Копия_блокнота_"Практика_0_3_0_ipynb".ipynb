{
  "nbformat": 4,
  "nbformat_minor": 0,
  "metadata": {
    "colab": {
      "provenance": [],
      "include_colab_link": true
    },
    "kernelspec": {
      "name": "python3",
      "display_name": "Python 3"
    },
    "language_info": {
      "name": "python"
    }
  },
  "cells": [
    {
      "cell_type": "markdown",
      "metadata": {
        "id": "view-in-github",
        "colab_type": "text"
      },
      "source": [
        "<a href=\"https://colab.research.google.com/github/Leonatr/Programming/blob/main/%D0%9A%D0%BE%D0%BF%D0%B8%D1%8F_%D0%B1%D0%BB%D0%BE%D0%BA%D0%BD%D0%BE%D1%82%D0%B0_%22%D0%9F%D1%80%D0%B0%D0%BA%D1%82%D0%B8%D0%BA%D0%B0_0_3_0_ipynb%22.ipynb\" target=\"_parent\"><img src=\"https://colab.research.google.com/assets/colab-badge.svg\" alt=\"Open In Colab\"/></a>"
      ]
    },
    {
      "cell_type": "markdown",
      "source": [
        "ФИО"
      ],
      "metadata": {
        "id": "phMKaFq3DN13"
      }
    },
    {
      "cell_type": "code",
      "execution_count": null,
      "metadata": {
        "id": "3CWpaI7SDK8t"
      },
      "outputs": [],
      "source": [
        "Леонов Илья Сергеевич"
      ]
    },
    {
      "cell_type": "markdown",
      "source": [
        "**Во всей практике нельзя применять библиотеки предоставляющие готовые решения!**"
      ],
      "metadata": {
        "id": "jyIy3GOgFOCe"
      }
    },
    {
      "cell_type": "markdown",
      "source": [
        "# **Задача 1.**\n"
      ],
      "metadata": {
        "id": "XizmlL1RK2t3"
      }
    },
    {
      "cell_type": "markdown",
      "source": [
        "\n",
        "\n",
        "Типы данных Напишите программу на Python, которая принимает список чисел в качестве входных данных от пользователя, а затем выводит сумму, среднее значение и максимальное значение из списка.\n",
        "\n",
        "***Нельзя использовать: len(), min(), max(), average(), sum()***\n",
        "\n",
        "Дано:\n",
        "```\n",
        "1 2 3 4 5 6 7\n",
        "```\n",
        "Вывод:\n",
        "\n",
        "```\n",
        "Сумма чисел: 28\n",
        "Среднее арифм.: 4.0\n",
        "Максимальное значение: 7\n",
        "```\n",
        "\n"
      ],
      "metadata": {
        "id": "p0v6KtHTFKSd"
      }
    },
    {
      "cell_type": "code",
      "source": [
        "number = input('Введите числа через пробел: ')\n",
        "number = number.split()\n",
        "summ = 0\n",
        "count = 0\n",
        "maxi = 0\n",
        "for i in number:\n",
        "  i = int(i)\n",
        "  summ += i\n",
        "  count += 1\n",
        "  if i > maxi:\n",
        "    maxi = i\n",
        "print('Сумма чисел: ', summ)\n",
        "print('Среднее арифм.: ', summ/count)\n",
        "print('Максимальное значение: ', maxi)"
      ],
      "metadata": {
        "id": "0e1Virl0FpF6",
        "colab": {
          "base_uri": "https://localhost:8080/"
        },
        "outputId": "b0e1c803-51f4-4cb1-8caf-f7c6702c39f1"
      },
      "execution_count": null,
      "outputs": [
        {
          "output_type": "stream",
          "name": "stdout",
          "text": [
            "Введите числа через пробел: 1 2 3 4\n",
            "Сумма чисел:  10\n",
            "Среднее арифм.:  2.5\n",
            "Максимальное значение:  4\n"
          ]
        }
      ]
    },
    {
      "cell_type": "markdown",
      "source": [
        "# **Задача 2.**"
      ],
      "metadata": {
        "id": "uFluc5OSK0NH"
      }
    },
    {
      "cell_type": "markdown",
      "source": [
        "\n",
        "Напишите программу на Python, которая принимает список слов в качестве входных данных от пользователя, а затем распечатывает список в обратном порядке.\n",
        "\n",
        "Ввод:\n",
        "\n",
        "```\n",
        "апельсин мандарин яблоко\n",
        "```\n",
        "\n",
        "Вывод:\n",
        "\n",
        "```\n",
        "яблоко мандарин апельсин\n",
        "```"
      ],
      "metadata": {
        "id": "6T8vg324GG4Z"
      }
    },
    {
      "cell_type": "code",
      "source": [
        "listic = input('Введите слова через пробел: ').split()\n",
        "print(listic[::-1])"
      ],
      "metadata": {
        "id": "v3AWj4ufGKox",
        "colab": {
          "base_uri": "https://localhost:8080/"
        },
        "outputId": "8713a7ff-aafa-40d3-9c08-f5460dd05ae8"
      },
      "execution_count": null,
      "outputs": [
        {
          "output_type": "stream",
          "name": "stdout",
          "text": [
            "Введите слова через пробел: ав па пп\n",
            "['пп', 'па', 'ав']\n"
          ]
        }
      ]
    },
    {
      "cell_type": "markdown",
      "source": [
        "# **Задача 3**"
      ],
      "metadata": {
        "id": "D1KkCxtIKxRx"
      }
    },
    {
      "cell_type": "markdown",
      "source": [
        "Простой чат-бот\n",
        "Создайте простого чат-бота, который отвечает на основные запросы пользователей. Программа должна использовать условные выражения для определения намерений пользователя и последующего соответствующего ответа.\n",
        "\n",
        "Чат бот может:\n",
        "\n",
        "- помогать складывать числа\n",
        "- подсказывать фильм, музыку и тд (из заранее созданного списка)\n",
        "- создавать список дел (а также выводить его, обновлять, очищать)\n",
        "\n",
        "Интерфейс чат-бота на ваше усмотрение, это могут быть как заранее определенные команды, так и к примеру вызов команды по номеру\n",
        "\n",
        "*Реализовать без использования функций*\n",
        "\n",
        "Пример:\n",
        "\n",
        "Ввод:\n",
        "\n",
        "```\n",
        "Олег, какую мызыку посоветуешь?\n",
        "```\n",
        "\n",
        "Вывод:\n",
        "\n",
        "```\n",
        "Я бы посоветовал вам: Led Zeppelin Stairway to Heaven\n",
        "```"
      ],
      "metadata": {
        "id": "Yq8Jgb9yHvSi"
      }
    },
    {
      "cell_type": "code",
      "source": [
        "from random import randint\n",
        "\n",
        "quest = input('Здравствуйте, я бот-помошник Олег, я могу: \\n1. Сложить несколько чисел \\n2. Подсказать фильм, музыку или сериал \\n3. Создать список дел \\n4. Закончить работу бота \\nВыберите нужную цифру: ')\n",
        "do_list = []\n",
        "\n",
        "while quest != '4':\n",
        "  music_list = ['Respect', 'Whats going on', 'Imagine', 'Satisfaction', 'Like a rollong stone']\n",
        "  film_list = ['Бойцовский клуб', '1+1', 'Побег из Шоушенка', 'Форест Гамп', 'Зелёная миля']\n",
        "  series_list = ['Во все тяжки', 'Шерлок', 'Чернобыль', 'Чёрное зеркало', 'Новичёк']\n",
        "\n",
        "  if quest == '1':\n",
        "    math_quest = input('Введите числа через пробел: ').split()\n",
        "    summ = 0\n",
        "    for i in math_quest:\n",
        "      i = int(i)\n",
        "      summ += i\n",
        "    print(summ)\n",
        "\n",
        "  if quest == '2':\n",
        "    quest1 = input('Вы хотите Фильм, Музыку или Сериал? ').lower()\n",
        "    if quest1 == 'фильм':\n",
        "      print('Я советую вам посмотреть фильм', film_list[randint(0,4)])\n",
        "    if quest1 == 'музыку':\n",
        "      print('Я советую вам послушать', music_list[randint(0,4)])\n",
        "    if quest1 == 'сериал':\n",
        "      print('Я советую вам посмотреть сериал', series_list[randint(0,4)])\n",
        "\n",
        "  if quest == '3':\n",
        "    quest_list = input('Что вы хотите записать в список дел?')\n",
        "    do_list.append(quest_list)\n",
        "    print('Вот ваш список дел:\\n', do_list)\n",
        "    quest2 = input('''Что-то ещё?\n",
        "    1. Обновить список дел\n",
        "    2. Стереть список дел\n",
        "    3. Выйти из списка дел\n",
        "    Выберите нужную цифру: ''')\n",
        "\n",
        "    if quest2 == '1':\n",
        "      quest_list = input('Что вы хотите дописать в список дел? ')\n",
        "      do_list.append(quest_list)\n",
        "      print(do_list)\n",
        "    if quest2 == '2':\n",
        "      do_list = []\n",
        "  quest = input('Что-то ещё? \\n1. Сложить несколько чисел \\n2. Подсказать фильм, музыку или сериал \\n3. Создать или вернуться в список дел \\n4. Закончить работу бота \\nВыберите нужную цифру: ')\n"
      ],
      "metadata": {
        "id": "fmW-tmUtINN9",
        "colab": {
          "base_uri": "https://localhost:8080/"
        },
        "outputId": "5c739c5b-a8ae-4e33-c2fd-afb44b1698d2"
      },
      "execution_count": null,
      "outputs": [
        {
          "name": "stdout",
          "output_type": "stream",
          "text": [
            "Здравствуйте, я бот-помошник Олег, я могу: \n",
            "1. Сложить несколько чисел \n",
            "2. Подсказать фильм, музыку или сериал \n",
            "3. Создать список дел \n",
            "4. Закончить работу бота \n",
            "Выберите нужную цифру: 2\n",
            "Вы хотите Фильм, Музыку или Сериал? фильм\n",
            "Я советую вам посмотреть фильм Побег из Шоушенка\n",
            "Что-то ещё? \n",
            "1. Сложить несколько чисел \n",
            "2. Подсказать фильм, музыку или сериал \n",
            "3. Создать или вернуться в список дел \n",
            "4. Закончить работу бота \n",
            "Выберите нужную цифру: 4\n"
          ]
        }
      ]
    },
    {
      "cell_type": "markdown",
      "source": [
        "# **Задача 4.**\n"
      ],
      "metadata": {
        "id": "PHXBfyc6Ko7D"
      }
    },
    {
      "cell_type": "markdown",
      "source": [
        "Камень, ножницы, бумага\n",
        "\n",
        "Создайте игру в Камень, ножницы, бумагу, в которой пользователь может играть против компьютера. Программа должна запросить выбор пользователя, а затем сгенерировать выбор компьютера. Затем программа должна определить победителя на основе правил игры.\n",
        "\n",
        "**Этап 1:**\n",
        "\n",
        "Определение победителя\n",
        "\n",
        "**Этап 2:**\n",
        "  \n",
        "Игра до 3 побед\n",
        "\n",
        "\n",
        "Ввод для \"Этап 1\":\n",
        "\n",
        "```\n",
        "Камень\n",
        "```\n",
        "\n",
        "Вывод:\n",
        "\n",
        "```\n",
        "Компьютер: Ножницы\n",
        "Игрок: Камень\n",
        "Победа: Игрок\n",
        "```"
      ],
      "metadata": {
        "id": "jnKWeYleI0j6"
      }
    },
    {
      "cell_type": "code",
      "source": [
        "from random import randint\n",
        "player_score = 0\n",
        "computer_score = 0\n",
        "bot_answer = ['Камень', 'Ножницы','Бумага']\n",
        "\n",
        "while player_score < 3 and computer_score < 3:\n",
        "  quest1 = input('Выберите камень, бумага или ножницы\\nИгрок: ')\n",
        "  answer = bot_answer[(randint(0,2))]\n",
        "  if quest1 == 'камень' or quest1 == 'Камень':\n",
        "    print('Компьютер:', answer)\n",
        "    if answer == 'Камень':\n",
        "      pass\n",
        "    if answer == 'Ножницы':\n",
        "      player_score+=1\n",
        "    if answer == 'Бумага':\n",
        "      computer_score+=1\n",
        "  if quest1 == 'ножницы' or quest1 == 'Ножницы':\n",
        "    print('Компьютер:', answer)\n",
        "    if answer == 'Ножницы':\n",
        "      pass\n",
        "    if answer == 'Бумага':\n",
        "      player_score+=1\n",
        "    if answer == 'Камень':\n",
        "      computer_score+=1\n",
        "  if quest1 == 'бумага' or quest1 == 'Бумага':\n",
        "    print('Компьютер:', answer)\n",
        "    if answer == 'Бумага':\n",
        "      pass\n",
        "    if answer == 'Камень':\n",
        "      player_score+=1\n",
        "    if answer == 'Ножницы':\n",
        "      computer_score+=1\n",
        "  print('Счёт игрока:', player_score,'\\n'+'Счёт компьютера:', computer_score, '\\n')\n",
        "if player_score == 3:\n",
        "  print('Победа: Игрок')\n",
        "else:\n",
        "  print('Победа: Компьютер')"
      ],
      "metadata": {
        "id": "ooIPCRe_JHkX",
        "colab": {
          "base_uri": "https://localhost:8080/"
        },
        "outputId": "169ef999-98d2-4624-84f5-b6204a436547"
      },
      "execution_count": null,
      "outputs": [
        {
          "output_type": "stream",
          "name": "stdout",
          "text": [
            "Выберите камень, бумага или ножницы\n",
            "Игрок: бумага\n",
            "Компьютер: Бумага\n",
            "Счёт игрока: 0 \n",
            "Счёт компьютера: 0 \n",
            "\n",
            "Выберите камень, бумага или ножницы\n",
            "Игрок: ножницы\n",
            "Компьютер: Камень\n",
            "Счёт игрока: 0 \n",
            "Счёт компьютера: 1 \n",
            "\n",
            "Выберите камень, бумага или ножницы\n",
            "Игрок: бумага\n",
            "Компьютер: Камень\n",
            "Счёт игрока: 1 \n",
            "Счёт компьютера: 1 \n",
            "\n",
            "Выберите камень, бумага или ножницы\n",
            "Игрок: бумага\n",
            "Компьютер: Камень\n",
            "Счёт игрока: 2 \n",
            "Счёт компьютера: 1 \n",
            "\n",
            "Выберите камень, бумага или ножницы\n",
            "Игрок: бумага\n",
            "Компьютер: Камень\n",
            "Счёт игрока: 3 \n",
            "Счёт компьютера: 1 \n",
            "\n",
            "Победа: Игрок\n"
          ]
        }
      ]
    },
    {
      "cell_type": "markdown",
      "source": [
        "# **Задача 5.**"
      ],
      "metadata": {
        "id": "Hg4FJNFbLHQO"
      }
    },
    {
      "cell_type": "markdown",
      "source": [
        "Создайте игру \"Палач\" или \"Виселица\", в которой пользователь должен угадать слово, предлагая буквы. Программа должна выбрать случайное слово, а затем разрешить пользователю угадывать буквы. После каждого угадывания программа должна сообщать пользователю, есть ли в слове буква или нет.\n",
        "\n",
        "**Этап 1**\n",
        "Создать саму игру\n",
        "\n",
        "**Этап 2:**\n",
        "Ввести подсчет количества очков и ограничения на попытки\n",
        "\n",
        "**Этап 3:** Добавить возможность сразу угадать слово"
      ],
      "metadata": {
        "id": "OHqj3HJuLJgY"
      }
    },
    {
      "cell_type": "code",
      "source": [
        "from random import randint\n",
        "\n",
        "score = 0\n",
        "falses = 0\n",
        "listic = ['кремень', 'машина', 'стол', 'дирижабль']\n",
        "code = ['*']\n",
        "word = listic[randint(0,3)]\n",
        "code1 = code*len(word)\n",
        "code2 = \"\".join(code1)\n",
        "print('Длина слова', len(word), 'букв:')\n",
        "letter = input('Попробуйте угадать букву: ').lower()\n",
        "a=0\n",
        "\n",
        "while code2.count('*')>0 and falses < 6:\n",
        "  counter = -1\n",
        "  for i in word:\n",
        "    counter +=1\n",
        "    if letter == i:\n",
        "      a=1\n",
        "      score += 1\n",
        "      code1[counter] = i\n",
        "  code2 = \"\".join(code1)\n",
        "  print(code2, '\\n')\n",
        "  if code2.count('*')== 0:\n",
        "    print('Ура, вы отгадали слово, вы выжили')\n",
        "    break\n",
        "  if a== 1:\n",
        "    letter = input('''Правильно\n",
        "Если хотите угадать слово полностью напишите 1\n",
        "Если нет, напишите следующую букву ''')\n",
        "  if a==0:\n",
        "    falses+=1\n",
        "    if falses == 6:\n",
        "      print('К сожалению вы проиграли, вас повесили')\n",
        "      break\n",
        "\n",
        "    letter = input('''Неверно\n",
        "Попробуйте снова: ''')\n",
        "  if letter == '1':\n",
        "    full_answer = input('Введите слово полностью: ')\n",
        "    if full_answer == word:\n",
        "      print('Ура, вы отгадали слово, вы выжили')\n",
        "      break\n",
        "    else:\n",
        "      print('К сожалению вы не угадали, вас повесили')\n",
        "      break\n",
        "  a=0"
      ],
      "metadata": {
        "id": "0N2zCYwVLiIw",
        "colab": {
          "base_uri": "https://localhost:8080/"
        },
        "outputId": "f75e1a34-2a3e-4de3-af0c-9cc5796aba67"
      },
      "execution_count": null,
      "outputs": [
        {
          "output_type": "stream",
          "name": "stdout",
          "text": [
            "Длина слова 6 букв:\n",
            "Попробуйте угадать букву: э\n",
            "****** \n",
            "\n",
            "Неверно \n",
            "Попробуйте снова: м\n",
            "м***** \n",
            "\n",
            "Правильно\n",
            "Если хотите угадать слово полностью напишите 1\n",
            "Если нет, напишите следующую букву 1\n",
            "Введите слово полностью: машина\n",
            "Ура, вы отгадали слово, вы выжили\n"
          ]
        }
      ]
    },
    {
      "cell_type": "markdown",
      "source": [
        "# **Дополнительно: Задача 6.**\n"
      ],
      "metadata": {
        "id": "w0x3QFGzKtDD"
      }
    },
    {
      "cell_type": "markdown",
      "source": [
        "\n",
        "**Цифра на определенном месте:**\n",
        "\n",
        "Последовательно записан натуральный ряд чисел.\n",
        "\n",
        "Какая цифра стоит в N позиции\n",
        "\n",
        "\n",
        "Вввод:\n",
        "\n",
        "```\n",
        "Введите номер позиции: 1234567890\n",
        "```\n",
        "\n",
        "Вывод:\n",
        "\n",
        "```\n",
        "8\n",
        "```"
      ],
      "metadata": {
        "id": "QqZArcpHJxVj"
      }
    },
    {
      "cell_type": "code",
      "source": [
        "\n"
      ],
      "metadata": {
        "id": "LwjYwBGcKiJ9",
        "colab": {
          "base_uri": "https://localhost:8080/"
        },
        "outputId": "f9d8e35a-c54b-40b9-8d3d-1ab69d2bd667"
      },
      "execution_count": null,
      "outputs": [
        {
          "output_type": "stream",
          "name": "stdout",
          "text": [
            "applepineapplecherry\n"
          ]
        }
      ]
    },
    {
      "cell_type": "code",
      "source": [],
      "metadata": {
        "id": "DSleS74Z-rD8"
      },
      "execution_count": null,
      "outputs": []
    }
  ]
}