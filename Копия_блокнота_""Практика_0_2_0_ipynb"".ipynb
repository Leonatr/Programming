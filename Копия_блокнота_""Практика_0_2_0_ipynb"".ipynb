{
  "nbformat": 4,
  "nbformat_minor": 0,
  "metadata": {
    "colab": {
      "provenance": [],
      "include_colab_link": true
    },
    "kernelspec": {
      "name": "python3",
      "display_name": "Python 3"
    },
    "language_info": {
      "name": "python"
    }
  },
  "cells": [
    {
      "cell_type": "markdown",
      "metadata": {
        "id": "view-in-github",
        "colab_type": "text"
      },
      "source": [
        "<a href=\"https://colab.research.google.com/github/Leonatr/Programming/blob/main/%D0%9A%D0%BE%D0%BF%D0%B8%D1%8F_%D0%B1%D0%BB%D0%BE%D0%BA%D0%BD%D0%BE%D1%82%D0%B0_%22%22%D0%9F%D1%80%D0%B0%D0%BA%D1%82%D0%B8%D0%BA%D0%B0_0_2_0_ipynb%22%22.ipynb\" target=\"_parent\"><img src=\"https://colab.research.google.com/assets/colab-badge.svg\" alt=\"Open In Colab\"/></a>"
      ]
    },
    {
      "cell_type": "markdown",
      "source": [
        "Напишите свое ФИО:"
      ],
      "metadata": {
        "id": "0PnTh-ajEoEb"
      }
    },
    {
      "cell_type": "code",
      "source": [
        "Леонов Илья Сергеевич"
      ],
      "metadata": {
        "id": "QyMVPjzWErHw"
      },
      "execution_count": null,
      "outputs": []
    },
    {
      "cell_type": "markdown",
      "source": [
        "# Основы"
      ],
      "metadata": {
        "id": "HPwKiIA4EKO-"
      }
    },
    {
      "cell_type": "markdown",
      "source": [
        "Задание 1: Напиши программу, выводящую на экран сообщение \"Привет, мир!\""
      ],
      "metadata": {
        "id": "8po5IidFERZ8"
      }
    },
    {
      "cell_type": "code",
      "execution_count": null,
      "metadata": {
        "id": "sBRjlCVLEIQr",
        "colab": {
          "base_uri": "https://localhost:8080/"
        },
        "outputId": "e3a027a3-a6d0-4aac-b7b0-ec58fa7d50ba"
      },
      "outputs": [
        {
          "output_type": "stream",
          "name": "stdout",
          "text": [
            "Привет, мир!\n"
          ]
        }
      ],
      "source": [
        "print('Привет, мир!')"
      ]
    },
    {
      "cell_type": "markdown",
      "source": [
        "Задание 2: Напиши программу которая запрашивает имя пользователя и выводит сообщение:\n",
        "\n",
        "`Привет, <Имя пользователя>`"
      ],
      "metadata": {
        "id": "pUQIIo94EYLg"
      }
    },
    {
      "cell_type": "code",
      "source": [
        "quest = input('Введите имя: ')\n",
        "print('Привет', quest)"
      ],
      "metadata": {
        "id": "nNwHKmAnEinH",
        "colab": {
          "base_uri": "https://localhost:8080/"
        },
        "outputId": "92b50805-7474-46c5-ad05-7b3143f6be9b"
      },
      "execution_count": null,
      "outputs": [
        {
          "output_type": "stream",
          "name": "stdout",
          "text": [
            "Введите имя Илья\n",
            "Привет Илья\n"
          ]
        }
      ]
    },
    {
      "cell_type": "markdown",
      "source": [
        "Задание 3: Напиши программу определяющую является ли число четным или нечетным:\n",
        "\n",
        "Пример:\n",
        "\n",
        "`Введите число:` 2\n",
        "\n",
        "`Ваше число четное!`"
      ],
      "metadata": {
        "id": "SAUm9W6_Etkh"
      }
    },
    {
      "cell_type": "code",
      "source": [
        "quest = int(input('Введите число: '))\n",
        "if quest % 2 == 0:\n",
        "  print('Ваше число чётное!')\n",
        "else:\n",
        "  print('Ваше число нечётное!')\n"
      ],
      "metadata": {
        "id": "LXv7AIN1E4on",
        "colab": {
          "base_uri": "https://localhost:8080/"
        },
        "outputId": "eb7e560f-4e5e-4466-971e-f174b9345b46"
      },
      "execution_count": null,
      "outputs": [
        {
          "output_type": "stream",
          "name": "stdout",
          "text": [
            "Введите число: 3\n",
            "Ваше число нечётное!\n"
          ]
        }
      ]
    },
    {
      "cell_type": "markdown",
      "source": [
        "Задание 4: Напишите программу которая запрашивает длинну и ширину прямоугольника и выводит его площадь:\n",
        "\n",
        "\n",
        "\n",
        "`Введите длинну прямоугольника:`\n",
        "\n",
        "`Введите ширину прямоугольника:`\n",
        "\n",
        "`Площадь прямоугольника: `\n",
        "\n"
      ],
      "metadata": {
        "id": "OW1Y5KyUE_n9"
      }
    },
    {
      "cell_type": "code",
      "source": [
        "length = float(input('Введите длинну прямоугольника: '))\n",
        "width = float(input('Введите ширину прямоугольника: '))\n",
        "print('Площадь прямоугольника:', length*width)"
      ],
      "metadata": {
        "id": "Bu5iawknFbXP",
        "colab": {
          "base_uri": "https://localhost:8080/"
        },
        "outputId": "5c44ccbe-8a9f-4493-bf40-3c22ed8088f6"
      },
      "execution_count": null,
      "outputs": [
        {
          "output_type": "stream",
          "name": "stdout",
          "text": [
            "Введите длинну прямоугольника: 5.5\n",
            "Введите ширину прямоугольника: 2.5\n",
            "Площадь прямоугольника: 13.75\n"
          ]
        }
      ]
    },
    {
      "cell_type": "markdown",
      "source": [
        "Задание 5: Напишите программу, которая будет вычислять среднее арифметическое введенных чисел"
      ],
      "metadata": {
        "id": "xj8_QNLsFfLw"
      }
    },
    {
      "cell_type": "code",
      "source": [
        "a = 1\n",
        "count = 0\n",
        "summ = 0\n",
        "while a > 0:\n",
        "  quest = input('Введите число: (Если хватит введите слово: стоп) ')\n",
        "\n",
        "  if quest == 'стоп':\n",
        "    a = 0\n",
        "  else:\n",
        "    count += 1\n",
        "\n",
        "    summ += float(quest)\n",
        "    a = 1\n",
        "print(summ / count)\n",
        "\n"
      ],
      "metadata": {
        "id": "omumX59JFoKw",
        "colab": {
          "base_uri": "https://localhost:8080/"
        },
        "outputId": "09e6357b-46f9-4dc7-d319-2be892e8db8b"
      },
      "execution_count": null,
      "outputs": [
        {
          "output_type": "stream",
          "name": "stdout",
          "text": [
            "Введите число: (Если хватит введите слово: стоп) 1\n",
            "Введите число: (Если хватит введите слово: стоп) 2\n",
            "Введите число: (Если хватит введите слово: стоп) 3\n",
            "Введите число: (Если хватит введите слово: стоп) 4\n",
            "Введите число: (Если хватит введите слово: стоп) стоп\n",
            "2.5\n"
          ]
        }
      ]
    },
    {
      "cell_type": "markdown",
      "source": [
        "Задание 6: Напиши программу, которая бы определяла является ли год високосным"
      ],
      "metadata": {
        "id": "qHXcBMUJcP91"
      }
    },
    {
      "cell_type": "code",
      "source": [
        "quest = int(input('Какой сейчас год? '))\n",
        "if quest % 4 == 0:\n",
        "  print('Год високосный')\n",
        "else:\n",
        "  print('Год не високосный')"
      ],
      "metadata": {
        "id": "5zIg47mwcKKr",
        "colab": {
          "base_uri": "https://localhost:8080/"
        },
        "outputId": "fe1f6c29-6e88-494a-8bab-7eb5d295ff6b"
      },
      "execution_count": null,
      "outputs": [
        {
          "output_type": "stream",
          "name": "stdout",
          "text": [
            "Какой сейчас год? 2023\n",
            "Год не високосный\n"
          ]
        }
      ]
    },
    {
      "cell_type": "markdown",
      "source": [
        "Задание 7: Необходимо создать простой калькулятор, который позволяет пользователю выбрать одну из четырёх операций (+, -, *, /), ввести два числа и получить результат выполнения операции."
      ],
      "metadata": {
        "id": "CYaQ69kucdhj"
      }
    },
    {
      "cell_type": "code",
      "source": [
        "quest = input('Введите знак операции из четырёх (+,-,*,/) ')\n",
        "quest1 = float(input('Введите первое число (не целые писать через точку) '))\n",
        "quest2 = float(input('Введите второе число (не целые писать через точку) '))\n",
        "if quest == '+':\n",
        "  print(quest1+quest2)\n",
        "if quest == '-':\n",
        "  print(quest1-quest2)\n",
        "if quest == '*':\n",
        "  print(quest1*quest2)\n",
        "if quest == '/':\n",
        "  print(quest1/quest2)\n"
      ],
      "metadata": {
        "id": "wR5UyEf7ciIE",
        "colab": {
          "base_uri": "https://localhost:8080/"
        },
        "outputId": "e01e0479-2cf4-4800-fc83-fb014db2377d"
      },
      "execution_count": null,
      "outputs": [
        {
          "output_type": "stream",
          "name": "stdout",
          "text": [
            "Введите знак операции из четырёх (+,-,*,/) /\n",
            "Введите первое число (не целые писать через точку) 20\n",
            "Введите второе число (не целые писать через точку) 5\n",
            "4.0\n"
          ]
        }
      ]
    },
    {
      "cell_type": "markdown",
      "source": [
        "# Практика 0.2.1"
      ],
      "metadata": {
        "id": "XWBhGpdEFo-U"
      }
    },
    {
      "cell_type": "markdown",
      "source": [
        "**Шахматы**\n",
        "\n",
        "Даны стартовые и конечные координаты, а также фигура\n",
        "\n",
        "Необходимо определить, может ли заданная фигура так ходить?"
      ],
      "metadata": {
        "id": "9Lw9odpqFwtn"
      }
    },
    {
      "cell_type": "code",
      "source": [
        "coordinates_startX = int(input('Введите начальные координаты фигуры по Х '))\n",
        "coordinates_startY = int(input('Введите начальные координаты фигуры по Y '))\n",
        "coordinates_endX = int(input('Введите конечные координаты фигуры по Х '))\n",
        "coordinates_endY = int(input('Введите конечные координаты фигуры Y '))\n",
        "figure = input ('Введите название фигуры  (Пешка, Ладья, Конь, Слон, Ферзь, Король) ')\n",
        "answer = 'Не может сходить'\n",
        "answer1 = 'Может сходить'\n",
        "if figure == 'Пешка' or figure == 'пешка' or figure == 'ПЕШКА':\n",
        "  if coordinates_startY >= 8 or coordinates_startX > 8 or coordinates_endX > 8 or coordinates_endX > 8:\n",
        "    print('Невозможно сходить')\n",
        "  else:\n",
        "    if coordinates_endY - (coordinates_startY) == 1:\n",
        "      if coordinates_endX == (coordinates_startX-1) or coordinates_endX == (coordinates_startX+1):\n",
        "        print(answer1)\n",
        "      else:\n",
        "        print(answer)\n",
        "    else:\n",
        "      print(answer)\n",
        "if figure == 'Ладья' or figure == 'ладья' or figure == 'ЛАДЬЯ':\n",
        "  if coordinates_startY > 8 or coordinates_startX > 8 or coordinates_endX > 8 or coordinates_endX > 8:\n",
        "    print('Невозможно сходить')\n",
        "  else:\n",
        "    if coordinates_startX != coordinates_endX or coordinates_startY != coordinates_endY:\n",
        "      if abs(coordinates_endX-coordinates_startX) == abs(coordinates_endY - coordinates_startY):\n",
        "        print(answer1)\n",
        "      else:\n",
        "        print(answer)\n",
        "    else:\n",
        "      print(answer)\n",
        "if figure == 'Конь' or figure == 'конь' or figure == 'КОНЬ':\n",
        "  if coordinates_startY > 8 or coordinates_startX > 8 or coordinates_endX > 8 or coordinates_endX > 8:\n",
        "    print('Невозможно сходить')\n",
        "  else:\n",
        "    if abs(coordinates_endX - coordinates_startX) == 2 and abs(coordinates_endY-coordinates_startY) == 1:\n",
        "      print(answer1)\n",
        "    else:\n",
        "      if abs(coordinates_endY - coordinates_startY) == 2 and abs(coordinates_endX - coordinates_startX) == 1:\n",
        "        print(answer1)\n",
        "      else:\n",
        "        print(answer)\n",
        "if figure == 'Слон' or figure == 'слон' or figure == 'СЛОН':\n",
        "  if coordinates_startY > 8 or coordinates_startX > 8 or coordinates_endX > 8 or coordinates_endX > 8:\n",
        "    print('Невозможно сходить')\n",
        "  else:\n",
        "    if (coordinates_startX == coordinates_endX or coordinates_startX == coordinates_endY or coordinates_startY == coordinates_endY or coordinates_startY == coordinates_endX):\n",
        "      if (coordinates_startY == coordinates_endY and coordinates_startX == coordinates_endX):\n",
        "        print(answer)\n",
        "      else:\n",
        "        print(answer1)\n",
        "    else:\n",
        "        print(answer)\n",
        "if figure == 'Ферзь' or figure == 'ферзь' or figure == 'ФЕРЗЬ':\n",
        "  if coordinates_startY > 8 or coordinates_startX > 8 or coordinates_endX > 8 or coordinates_endX > 8:\n",
        "    print('Невозможно сходить')\n",
        "  else:\n",
        "    if coordinates_startX == coordinates_endX and coordinates_startY == coordinates_endY:\n",
        "      print(answer)\n",
        "    else:\n",
        "      if abs(coordinates_endX-coordinates_startX) == abs(coordinates_endY - coordinates_startY):\n",
        "        print(answer1)\n",
        "      else:\n",
        "         if (coordinates_startX == coordinates_endX or coordinates_startX == coordinates_endY or coordinates_startY == coordinates_endY or coordinates_startY == coordinates_endX):\n",
        "            print(answer1)\n",
        "         else:\n",
        "            print(answer)\n",
        "if figure == 'Король' or figure == 'король' or figure == 'КОРОЛЬ':\n",
        "  if coordinates_startY > 8 or coordinates_startX > 8 or coordinates_endX > 8 or coordinates_endX > 8:\n",
        "    print('Невозможно сходить')\n",
        "  else:\n",
        "    if (abs(coordinates_endX - coordinates_startX) == 1 or abs(coordinates_endX - coordinates_startX) == 0) and (abs(coordinates_endY- coordinates_startY) == 1 or abs(coordinates_endY- coordinates_startY) == 0):\n",
        "      if (coordinates_startY == coordinates_endY and coordinates_startX == coordinates_endX):\n",
        "        print(answer)\n",
        "      else:\n",
        "        print(answer1)\n",
        "    else:\n",
        "      print(answer)\n"
      ],
      "metadata": {
        "id": "9IICo0p3F07P",
        "colab": {
          "base_uri": "https://localhost:8080/"
        },
        "outputId": "43b792f4-9412-4af3-f4e7-f2df1f2489d3"
      },
      "execution_count": null,
      "outputs": [
        {
          "output_type": "stream",
          "name": "stdout",
          "text": [
            "Введите начальные координаты фигуры по Х 5\n",
            "Введите начальные координаты фигуры по Y 2\n",
            "Введите конечные координаты фигуры по Х 3\n",
            "Введите конечные координаты фигуры Y 4\n",
            "Введите название фигуры  (Пешка, Ладья, Конь, Слон, Ферзь, Король) ферзь\n",
            "Может сходить\n"
          ]
        }
      ]
    },
    {
      "cell_type": "markdown",
      "source": [
        "# Практика 0.2.2\n",
        "\n",
        "**Цифра на определенном месте:**\n",
        "\n",
        "Последовательно записан натуральный ряд чисел.\n",
        "\n",
        "Какая цифра стоит в N позиции"
      ],
      "metadata": {
        "id": "wI5bLNpHGDmO"
      }
    },
    {
      "cell_type": "code",
      "source": [
        "subsequence = input()\n",
        "subsequence = subsequence.split()\n",
        "a = ''\n",
        "for i in subsequence:\n",
        "  a = str(a) + str(i)\n",
        "numberN = int(input('Какая позиция цифры нужна? '))\n",
        "if len(a) >= numberN:\n",
        "  print(a[numberN-1])\n",
        "else:\n",
        "  print('Такой позиции нет')"
      ],
      "metadata": {
        "id": "XLm_zFGzGNsU",
        "colab": {
          "base_uri": "https://localhost:8080/"
        },
        "outputId": "4a1e93f8-9bd2-4946-cc84-dad2ef300952"
      },
      "execution_count": null,
      "outputs": [
        {
          "output_type": "stream",
          "name": "stdout",
          "text": [
            "1 2 3\n",
            "Какая позиция цифры нужна? 4\n",
            "Такой позиции нет\n"
          ]
        }
      ]
    },
    {
      "cell_type": "markdown",
      "source": [
        "# Практика 0.2.3\n",
        "\n",
        "\n",
        "Возьмите код из задания 7 и улучшите ваш калькулятор следующим образом:\n",
        "\n",
        "Пользователь вводит строку вида:\n",
        "\n",
        "(5+5)*5 - данная строка содержит в себе математическое выражение, а также скобки\n",
        "\n",
        "Ваша программа должная понять что за математическое выражение записано, проверить верно ли оно записано (пример неверного заполнения: (5(+)5)*5, а также расчитать его в соотвествии с правилами математики"
      ],
      "metadata": {
        "id": "dpxTJv-scnMy"
      }
    },
    {
      "cell_type": "code",
      "source": [
        "quest = input('Введите знак операции из четырёх (+,-,*,/) ')\n",
        "quest1 = float(input('Введите первое число (не целые писать через точку) '))\n",
        "quest2 = float(input('Введите второе число (не целые писать через точку) '))\n",
        "if quest == '+':\n",
        "  print(quest1+quest2)\n",
        "if quest == '-':\n",
        "  print(quest1-quest2)\n",
        "if quest == '*':\n",
        "  print(quest1*quest2)\n",
        "if quest == '/':\n",
        "  print(quest1/quest2)\n"
      ],
      "metadata": {
        "id": "18gOluyHcmmf",
        "colab": {
          "base_uri": "https://localhost:8080/"
        },
        "outputId": "cbbde1b1-8c5d-484f-c366-6c45a8582e94"
      },
      "execution_count": null,
      "outputs": [
        {
          "output_type": "stream",
          "name": "stdout",
          "text": [
            "Введите знак операции из четырёх (+,-,*,/) +\n",
            "Введите первое число (не целые писать через точку) 4\n",
            "Введите второе число (не целые писать через точку) 5\n",
            "9.0\n"
          ]
        }
      ]
    },
    {
      "cell_type": "code",
      "source": [
        "math_expression = input('Введите пример: ')\n",
        "numbers = ['1','2','3','4','5','6','7','8','9',1,2,3,4,5,6,7,8,9]\n",
        "math_signs = ['*','/','-','+']\n",
        "space = ' '\n",
        "for x in range(0, len(math_expression)-1):\n",
        "\n",
        "    #Проверка на правильность написания\n",
        "    if math_expression[x] == '(':\n",
        "        if math_expression[x+1] in math_signs or math_expression[x+1] == ')' or math_expression[x+1] == space:\n",
        "          print('Ошибка ввода')\n",
        "          break\n",
        "    elif math_expression[x] == ')':\n",
        "        if math_expression[x+1] in numbers or math_expression[x+1] == '(' or math_expression[x+1] == space:\n",
        "          print('Ошибка ввода')\n",
        "          break\n",
        "    elif math_expression[x] in math_signs:\n",
        "        if math_expression[x+1] == ')' or math_expression[x+1] == space:\n",
        "          print('Ошибка ввода')\n",
        "          break\n",
        "    elif math_expression[x] in numbers:\n",
        "        if math_expression[x+1] == '(' or math_expression[x+1] == space:\n",
        "          print('Ошибка ввода')\n",
        "          break\n",
        "    #Математический расчёт\n",
        "    a = []\n",
        "    for i in range(len(math_expression)-1):\n",
        "        if math_expression[i] == '*' or math_expression[i] == '/':\n",
        "            a.append(math_expression[i-1])\n",
        "            a.append(math_expression[i])\n",
        "            a.append(math_expression[i+1])\n",
        "\n",
        "    if math_expression[x] in numbers:\n",
        "      if math_expression[x+1] == '+':\n",
        "        print(int(math_expression[x])+int(math_expression[x+2]))\n",
        "      if math_expression[x+1] == '-':\n",
        "        print(int(math_expression[x])-int(math_expression[x+2]))\n",
        "      if math_expression[x+1] == '*':\n",
        "        print(int(math_expression[x])*int(math_expression[x+2]))\n",
        "      if math_expression[x+1] == '/':\n",
        "        print(int(math_expression[x])/int(math_expression[x+2]))\n",
        "\n"
      ],
      "metadata": {
        "id": "nwFvycTidSG4",
        "colab": {
          "base_uri": "https://localhost:8080/"
        },
        "outputId": "6e2bd3e8-58b5-4989-874f-f7d60514f7b2"
      },
      "execution_count": null,
      "outputs": [
        {
          "output_type": "stream",
          "name": "stdout",
          "text": [
            "Введите пример: 5+1*2\n",
            "6\n",
            "2\n"
          ]
        }
      ]
    }
  ]
}