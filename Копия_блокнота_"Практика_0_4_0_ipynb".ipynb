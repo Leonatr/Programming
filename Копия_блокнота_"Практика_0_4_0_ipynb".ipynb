{
  "nbformat": 4,
  "nbformat_minor": 0,
  "metadata": {
    "colab": {
      "provenance": [],
      "include_colab_link": true
    },
    "kernelspec": {
      "name": "python3",
      "display_name": "Python 3"
    },
    "language_info": {
      "name": "python"
    }
  },
  "cells": [
    {
      "cell_type": "markdown",
      "metadata": {
        "id": "view-in-github",
        "colab_type": "text"
      },
      "source": [
        "<a href=\"https://colab.research.google.com/github/Leonatr/Programming/blob/main/%D0%9A%D0%BE%D0%BF%D0%B8%D1%8F_%D0%B1%D0%BB%D0%BE%D0%BA%D0%BD%D0%BE%D1%82%D0%B0_%22%D0%9F%D1%80%D0%B0%D0%BA%D1%82%D0%B8%D0%BA%D0%B0_0_4_0_ipynb%22.ipynb\" target=\"_parent\"><img src=\"https://colab.research.google.com/assets/colab-badge.svg\" alt=\"Open In Colab\"/></a>"
      ]
    },
    {
      "cell_type": "markdown",
      "source": [
        "Введите ваше ФИО:"
      ],
      "metadata": {
        "id": "k8oVfdwrMXyc"
      }
    },
    {
      "cell_type": "code",
      "execution_count": null,
      "metadata": {
        "id": "5mcBLsKMI1-5"
      },
      "outputs": [],
      "source": [
        "Леонов Илья Сергеевич"
      ]
    },
    {
      "cell_type": "markdown",
      "source": [
        "***Дисклеймер***\n",
        "\n",
        "В данной практике запрещено использования функций:\n",
        "\n",
        "\n",
        "*   sum()\n",
        "*   min()\n",
        "*   max()\n",
        "*   average()\n",
        "*   reversed()\n",
        "*   sorted()\n",
        "*   готовые функции или библиотеки\n"
      ],
      "metadata": {
        "id": "8HbYUbm3Jw3o"
      }
    },
    {
      "cell_type": "markdown",
      "source": [
        "\n",
        "**Задача 1:**\n",
        "\n",
        "\n",
        "\n",
        "Интернет-магазин предлагает следующие условия скидок:\n",
        "\n",
        "*   Для заказов больше 1000 единиц, клиент получает скидку 5%. Если клиент использует промокод SUPERDISCOUNT, он получает скидку 10% (вместо 5%).\n",
        "*  Для заказов более 5000 единиц, клиент получает скидку 15%, а использование промокода SUPERDISCOUNT увеличивает скидку до 20% (вместо 15%).\n",
        "\n",
        "Этап 1:\n",
        "Ввод:\n",
        "```\n",
        "Введите стоимость единицы товара: 5\n",
        "Введите количество товара: 1001\n",
        "Введите промокод: GiVEMEDISCONT\n",
        "```\n",
        "\n",
        "Вывод:\n",
        "\n",
        "```\n",
        "Ваша скидка: 5%\n",
        "Итоговая сумма: 4754.75\n",
        "```\n",
        "Этап 2:\n",
        "\n",
        "Оформите ваш код в виде функции"
      ],
      "metadata": {
        "id": "HmX0c6YPJSQr"
      }
    },
    {
      "cell_type": "code",
      "source": [
        "def result(discount, summ):\n",
        "  end_discount = summ*discount\n",
        "  summ = summ - end_discount\n",
        "  return summ\n",
        "\n",
        "\n",
        "product_cost = int(input('Введите стоимость единицы товара: '))\n",
        "product_count = int(input('Введите количество товара: '))\n",
        "promotional_code = input('Введите промокод: ')\n",
        "summ = product_cost*product_count\n",
        "\n",
        "if 1000<product_count<=5000:\n",
        "  discount = 0.05\n",
        "\n",
        "  if promotional_code == 'SUPERDISCOUNT':\n",
        "    discount = 0.1\n",
        "\n",
        "elif product_count > 5000:\n",
        "  discount = 0.15\n",
        "\n",
        "  if promotional_code == 'SUPERDISCOUNT':\n",
        "    discount = 0.2\n",
        "\n",
        "else:\n",
        "  pass\n",
        "\n",
        "summ = result(discount, summ)\n",
        "print(f'Ваша скидка: {int(discount*100)}%')\n",
        "print(f'Итоговая сумма: {summ}')"
      ],
      "metadata": {
        "id": "OAIMIpklMN5D",
        "colab": {
          "base_uri": "https://localhost:8080/"
        },
        "outputId": "86026954-89ec-4741-f0dd-230d22318b69"
      },
      "execution_count": null,
      "outputs": [
        {
          "output_type": "stream",
          "name": "stdout",
          "text": [
            "Введите стоимость единицы товара: 5\n",
            "Введите количество товара: 1001\n",
            "Введите промокод: SUPERDISCOUNT\n",
            "Ваша скидка: 10%\n",
            "Итоговая сумма: 4504.5\n"
          ]
        }
      ]
    },
    {
      "cell_type": "markdown",
      "source": [
        "**Задача 2:**\n",
        "\n",
        "Этап 1:\n",
        "Напишите программу способную отфильтровать список и вывести только положительные элементы\n",
        "\n",
        "\n",
        "Ввод:\n",
        "```\n",
        "-1 5 1 2 -3\n",
        "```\n",
        "\n",
        "Вывод:\n",
        "\n",
        "```\n",
        "5 1 2\n",
        "```\n",
        "\n",
        "Этап 2:\n",
        "\n",
        "Оформите ваш код в виде функции"
      ],
      "metadata": {
        "id": "eeRVWpuLNGJ0"
      }
    },
    {
      "cell_type": "code",
      "source": [
        "def remove1():\n",
        "  a=-1\n",
        "  for i in numbers_list:\n",
        "    a+=1\n",
        "    if '-' in i:\n",
        "      numbers_list[a] = '*'\n",
        "  return numbers_list\n",
        "\n",
        "\n",
        "numbers_list = input('Введите числа: ').split()\n",
        "numbers_list = remove1()\n",
        "\n",
        "while '*' in numbers_list:\n",
        "  numbers_list.remove('*')\n",
        "\n",
        "print(*numbers_list)"
      ],
      "metadata": {
        "id": "Xbi6bL0WOE9N",
        "colab": {
          "base_uri": "https://localhost:8080/"
        },
        "outputId": "9e8d19ec-e2d7-474b-e538-2bc81aa9cf49"
      },
      "execution_count": null,
      "outputs": [
        {
          "output_type": "stream",
          "name": "stdout",
          "text": [
            "Введите числа: -1 5 1 2 -3\n",
            "5 1 2\n"
          ]
        }
      ]
    },
    {
      "cell_type": "markdown",
      "source": [
        "**Задача 3:**\n",
        "\n",
        "Этап 1:\n",
        "Напишите программу реализующую Алгоритм Евклида\n",
        "\n",
        "\n",
        "> Алгоритм Евклида – это алгоритм нахождения наибольшего общего делителя (НОД) пары целых чисел.\n",
        "\n",
        "\n",
        "\n",
        "Ввод:\n",
        "```\n",
        "30 18\n",
        "```\n",
        "\n",
        "Вывод:\n",
        "\n",
        "```\n",
        "6\n",
        "```\n",
        "\n",
        "Этап 2:\n",
        "Оформите ваш код в виде функции\n"
      ],
      "metadata": {
        "id": "lV-w6G-POa6F"
      }
    },
    {
      "cell_type": "code",
      "source": [
        "listr=[]\n",
        "def h(o):\n",
        "    print()\n",
        "    sum min max\n",
        "\n",
        "c=10\n",
        "h()"
      ],
      "metadata": {
        "id": "X2n6fnd91yt7",
        "colab": {
          "base_uri": "https://localhost:8080/",
          "height": 106
        },
        "outputId": "37462e49-4ff9-4e3c-f0fb-1d9eaa36bb37"
      },
      "execution_count": null,
      "outputs": [
        {
          "output_type": "error",
          "ename": "SyntaxError",
          "evalue": "invalid syntax (<ipython-input-35-bbda88dd93c7>, line 4)",
          "traceback": [
            "\u001b[0;36m  File \u001b[0;32m\"<ipython-input-35-bbda88dd93c7>\"\u001b[0;36m, line \u001b[0;32m4\u001b[0m\n\u001b[0;31m    sum min max\u001b[0m\n\u001b[0m        ^\u001b[0m\n\u001b[0;31mSyntaxError\u001b[0m\u001b[0;31m:\u001b[0m invalid syntax\n"
          ]
        }
      ]
    },
    {
      "cell_type": "code",
      "source": [
        "def all_divisor(num, main_list):\n",
        "  div_list = []\n",
        "  for div1 in range(1, int(num**0.5)+1):\n",
        "    if num % div1 == 0:\n",
        "      div2 = num // div1\n",
        "      div_list.append(div1)\n",
        "      div_list.append(div2)\n",
        "  main_list.append(div_list)\n",
        "\n",
        "\n",
        "numbers = input('Введите 2 числа через пробел: ').split()\n",
        "int_numbers = []\n",
        "maxi = 0\n",
        "main_list = list()\n",
        "\n",
        "for y in numbers:\n",
        "  y = int(y)\n",
        "  int_numbers.append(y)\n",
        "\n",
        "for i in range(2):\n",
        "  num = int_numbers[i]\n",
        "  all_divisor1 = all_divisor(num, main_list)\n",
        "\n",
        "for x in main_list[0]:\n",
        "  for q in main_list[1]:\n",
        "    if x == q:\n",
        "      maximum_divisor = x\n",
        "      if x > maxi:\n",
        "        maxi = x\n",
        "\n",
        "print(x)\n",
        "\n"
      ],
      "metadata": {
        "id": "43Dl5tIpOZsu",
        "colab": {
          "base_uri": "https://localhost:8080/"
        },
        "outputId": "fafecd40-6e48-4564-c275-85f85e5aa3b3"
      },
      "execution_count": null,
      "outputs": [
        {
          "output_type": "stream",
          "name": "stdout",
          "text": [
            "Введите 2 числа через пробел30 18\n",
            "6\n"
          ]
        }
      ]
    },
    {
      "cell_type": "markdown",
      "source": [
        "**Задача 4:**\n",
        "\n",
        "Этап 1:\n",
        "Напишите функцию программу, которая принимает строку и возвращает список слов и количество их упомнинаний в предложении\n",
        "\n",
        "Этап 2:\n",
        "Оформите ваш код в виде функции\n",
        "\n",
        "Ввод:\n",
        "```\n",
        "apple banana apple\n",
        "```\n",
        "\n",
        "Вывод:\n",
        "\n",
        "```\n",
        "apple: 2,\n",
        "banana: 1\n",
        "```"
      ],
      "metadata": {
        "id": "WIfPFxpsO0zL"
      }
    },
    {
      "cell_type": "code",
      "source": [
        "def do_list(listic):\n",
        "  for i in words:\n",
        "    if not i in listic:\n",
        "      listic.append(i)\n",
        "  return listic\n",
        "\n",
        "\n",
        "words = input('Введите строку: ').split()\n",
        "listic = []\n",
        "listic = do_list(listic)\n",
        "\n",
        "for y in listic:\n",
        "  count_words = words.count(y)\n",
        "  print(f'{y}: {count_words}')\n"
      ],
      "metadata": {
        "id": "DgsmFeW5Po_x",
        "colab": {
          "base_uri": "https://localhost:8080/"
        },
        "outputId": "dd108e62-8b3c-49fd-e25e-e2f04701a3e6"
      },
      "execution_count": null,
      "outputs": [
        {
          "output_type": "stream",
          "name": "stdout",
          "text": [
            "apple banana apple\n",
            "apple: 2\n",
            "banana: 1\n"
          ]
        }
      ]
    },
    {
      "cell_type": "markdown",
      "source": [
        "**Задача 5:**\n",
        "\n",
        "Этап 1:\n",
        "Детектор анаграмм Напишите программу на Python, которая принимает в качестве входных данных две строки и проверяет, являются ли они анаграммами друг друга\n",
        "\n",
        "Этап 2:\n",
        "Оформите ваш код в виде функции\n",
        "\n",
        "Ввод:\n",
        "```\n",
        "listen, silent\n",
        "```\n",
        "\n",
        "Вывод:\n",
        "\n",
        "```\n",
        "True\n",
        "```"
      ],
      "metadata": {
        "id": "5BmIJLUZP9I-"
      }
    },
    {
      "cell_type": "code",
      "source": [
        "def counter_words():\n",
        "  count = 0\n",
        "  for i in range(0, len(word1)):\n",
        "    for y in range(0, len(word2)):\n",
        "      a = word1[i]\n",
        "      b = word2[y]\n",
        "      if a == b:\n",
        "        count+=1\n",
        "  return count\n",
        "\n",
        "\n",
        "word1 = input('Введите первое слово: ')\n",
        "word2 = input('Введите второе слово: ')\n",
        "\n",
        "if counter_words() == len(word1):\n",
        "  print('\\nTrue')\n",
        "else:\n",
        "  print('\\nFalse')\n"
      ],
      "metadata": {
        "id": "7LNW8DuHQJwH",
        "colab": {
          "base_uri": "https://localhost:8080/"
        },
        "outputId": "7e2e0188-c3ff-4339-dbee-bdd5f8ec7540"
      },
      "execution_count": null,
      "outputs": [
        {
          "output_type": "stream",
          "name": "stdout",
          "text": [
            "qwerty\n",
            "ytrewq\n",
            "\n",
            "True\n"
          ]
        }
      ]
    },
    {
      "cell_type": "markdown",
      "source": [
        "**Задача 6:**\n",
        "\n",
        "Шифр ​​Цезаря\n",
        "\n",
        "Напишите программу на Python, которая реализует шифр Цезаря, простой метод шифрования, который заменяет каждую букву буквой на фиксированное количество позиций вниз по алфавиту. Программа должна запрашивать у пользователя сообщение и значение сдвига, а затем шифровать и расшифровывать сообщение.\n",
        "\n",
        "Этап 1:\n",
        "\n",
        "Напишите код для реализации данной задачи\n",
        "\n",
        "Этап 2:\n",
        "\n",
        "Оформите код в виде нескольких функций:\n",
        "\n",
        "* Зашифровывает сообщение\n",
        "* Расшифровывает сообщение"
      ],
      "metadata": {
        "id": "-SIWYSq2QKBh"
      }
    },
    {
      "cell_type": "code",
      "source": [
        "def encrypt_the_message(message):\n",
        "  for i in string:\n",
        "    if i != ' ':\n",
        "      place = alphabet3.find(i)\n",
        "      message += alphabet1[place-3]\n",
        "    else:\n",
        "      message+= ' '\n",
        "  return message\n",
        "\n",
        "def decrypt_the_message(message):\n",
        "  for y in string:\n",
        "    if y != ' ':\n",
        "      place = alphabet3.find(y)\n",
        "      message += alphabet2[place+3]\n",
        "    else:\n",
        "      message+= ' '\n",
        "  return message\n",
        "\n",
        "\n",
        "alphabet1 = ('а б в г д е ё ж з и й к л м н о п р с т у ф х ц ч ш щ ъ ы ь э ю я').split()\n",
        "alphabet2 = ('а б в г д е ё ж з и й к л м н о п р с т у ф х ц ч ш щ ъ ы ь э ю я а б в').split()\n",
        "alphabet3 = 'абвгдеёжзийклмнопрстуфхцчшщъыьэюя'\n",
        "message = ''\n",
        "question = input('Вы хотите зашифровать сообщение или расшифровать? ')\n",
        "\n",
        "if question.lower() == 'зашифровать':\n",
        "  string = input('Введите текст: ')\n",
        "  print(encrypt_the_message(message))\n",
        "elif question.lower() == 'расшифровать':\n",
        "  string = input('Введите текст: ')\n",
        "  print(decrypt_the_message(message))\n"
      ],
      "metadata": {
        "id": "anThYirsQe6N",
        "colab": {
          "base_uri": "https://localhost:8080/"
        },
        "outputId": "6fe94061-6566-4826-d7b0-ef48cdc3cce5"
      },
      "execution_count": null,
      "outputs": [
        {
          "output_type": "stream",
          "name": "stdout",
          "text": [
            "Вы хотите зашифровать сообщение или расшифровать? расшифровать\n",
            "Введите текст: мнёявп йлж бнра овнбвфкшж ь пвюь иыюиы\n",
            "привет мой друг сердечный я тебя люблю\n"
          ]
        }
      ]
    },
    {
      "cell_type": "markdown",
      "source": [
        "**Задача 7**\n",
        "\n",
        "Задача: «Банковская система»\n",
        "\n",
        "Создайте программу Python, которая имитирует базовую банковскую систему. Система должна иметь следующие функции:\n",
        "\n",
        "Требования\n",
        "*   Система должна позволять клиентам создавать счета и хранить их балансы.\n",
        "*   Система должна позволять клиентам вносить и снимать деньги со своих счетов.\n",
        "*   Система должна позволять клиентам проверять свой текущий баланс.\n",
        "*   Система должна позволять клиентам переводить деньги между счетами.\n",
        "*   Система должна отслеживать транзакции (депозиты, снятия и переводы) и иметь возможность печатать детали транзакций.\n",
        "\n",
        "\n",
        "Задачи\n",
        "1. Реализуйте банковскую систему, используя только базовые конструкции Python, такие как def, lists, if, elif и else, без классов или словарей.\n",
        "Определите функции для создания счетов, внесения и снятия денег, получения балансов счетов, перевода денег между счетами, а также создания и печати транзакций.\n",
        "2. Напишите основную функцию, которая демонстрирует использование банковской системы путем создания счетов, внесения и снятия денег и перевода денег между счетами.\n",
        "3. Бонусное задание\n",
        "Реализуйте способ хранения и печати истории транзакций для каждого счета.\n",
        "\n",
        "Ограничения\n",
        "Не используйте классы или словари.\n",
        "Используйте только базовые конструкции Python, такие как def, lists, if, elif и else.\n"
      ],
      "metadata": {
        "id": "avFZRRXrQz9O"
      }
    },
    {
      "cell_type": "code",
      "source": [
        "def create_account(accounts, all_summ, number):\n",
        "  account_name = input(\"Введите имя владельца счета: \")\n",
        "  number[0]+= 1\n",
        "  accounts.append(account_name)\n",
        "  all_summ.append(0)\n",
        "  print(f\"Счет для {account_name} создан, его номер {number[0]}\")\n",
        "\n",
        "def deposit(accounts, all_summ):\n",
        "  account_index = int(input('Введите номер счета для депозита: ')) - 1\n",
        "  summ_deposit = float(input('Введите сумму депозита: '))\n",
        "  all_summ[account_index] += summ_deposit\n",
        "  print(f'Баланс счёта {accounts[account_index]} - {all_summ[account_index]} рублей')\n",
        "  return all_summ\n",
        "\n",
        "def withdraw(accounts, all_summ):\n",
        "  account_index = int(input('Введите номер счета для депозита: ')) - 1\n",
        "  minus_deposit = float(input('Введите сумму, которую хотите снять: '))\n",
        "  if all_summ[account_index] - minus_deposit >= 0:\n",
        "    all_summ[account_index] -= minus_deposit\n",
        "    print(f'Баланс счёта {accounts[account_index]} - {all_summ[account_index]} рублей')\n",
        "  else:\n",
        "    print(f'На счёте {accounts[account_index]} недостаточно средств')\n",
        "  return all_summ\n",
        "\n",
        "def check_balance(accounts, all_summ):\n",
        "  account_index = int(input('Введите номер счета для депозита: ')) - 1\n",
        "  print(f'Баланс счёта {accounts[account_index]} - {all_summ[account_index]} рублей')\n",
        "  return all_summ\n",
        "\n",
        "def transfer(accounts, all_summ):\n",
        "  from_account_index = int(input(\"Введите номер счета для перевода средств: \")) - 1\n",
        "  to_account_index = int(input(\"Введите номер счета, на который переводить: \")) - 1\n",
        "  amount = float(input(\"Введите сумму для перевода: \"))\n",
        "  if all_summ[from_account_index] - amount >= 0:\n",
        "    all_summ[from_account_index] -= amount\n",
        "    all_summ[to_account_index] += amount\n",
        "    print(f'Со счёта {accounts[from_account_index]} на счёт {accounts[to_account_index]} переведенно {amount} рублей')\n",
        "    print(f'Баланс счёта {accounts[from_account_index]} - {all_summ[from_account_index]} рублей')\n",
        "    print(f'Баланс счёта {accounts[to_account_index]} - {all_summ[to_account_index]} рублей')\n",
        "  else:\n",
        "    print(f'На счёте {accounts[from_account_index]} недостаточно средств')\n",
        "\n",
        "def main():\n",
        "  all_summ = []\n",
        "  accounts = []\n",
        "  number = [0]\n",
        "  while True:\n",
        "    question = input('''\\nБанковская система\n",
        "1. Создать счет\n",
        "2. Внести деньги\n",
        "3. Снять деньги\n",
        "4. Проверить баланс\n",
        "5. Перевести деньги с 1 счёта на другой\n",
        "6. Выход\n",
        "\n",
        "''')\n",
        "    if question == '1':\n",
        "      create_account(accounts, all_summ, number)\n",
        "    elif question == '2':\n",
        "      deposit(accounts, all_summ)\n",
        "    elif question == '3':\n",
        "      withdraw(accounts, all_summ)\n",
        "    elif question == '4':\n",
        "      check_balance(accounts, all_summ)\n",
        "    elif question == '5':\n",
        "      transfer(accounts, all_summ)\n",
        "    elif question == '6':\n",
        "      break\n",
        "    else:\n",
        "        print(\"Некорректный ввод. Попробуйте снова.\")\n",
        "\n",
        "main()"
      ],
      "metadata": {
        "colab": {
          "base_uri": "https://localhost:8080/"
        },
        "id": "dWEW10zIRwjs",
        "outputId": "61380cbc-6e74-46b2-f109-f5b58ef4599e"
      },
      "execution_count": null,
      "outputs": [
        {
          "name": "stdout",
          "output_type": "stream",
          "text": [
            "\n",
            "Банковская система\n",
            "1. Создать счет\n",
            "2. Внести деньги\n",
            "3. Снять деньги\n",
            "4. Проверить баланс\n",
            "5. Перевести деньги с 1 счёта на другой\n",
            "6. Выход\n",
            "\n",
            "1\n",
            "Введите имя владельца счета: Илья\n",
            "Счет для Илья создан, его номер 1\n",
            "\n",
            "Банковская система\n",
            "1. Создать счет\n",
            "2. Внести деньги\n",
            "3. Снять деньги\n",
            "4. Проверить баланс\n",
            "5. Перевести деньги с 1 счёта на другой\n",
            "6. Выход\n",
            "\n",
            "1\n",
            "Введите имя владельца счета: Стас\n",
            "Счет для Стас создан, его номер 2\n",
            "\n",
            "Банковская система\n",
            "1. Создать счет\n",
            "2. Внести деньги\n",
            "3. Снять деньги\n",
            "4. Проверить баланс\n",
            "5. Перевести деньги с 1 счёта на другой\n",
            "6. Выход\n",
            "\n",
            "1\n",
            "Введите имя владельца счета: Андрей\n",
            "Счет для Андрей создан, его номер 3\n",
            "\n",
            "Банковская система\n",
            "1. Создать счет\n",
            "2. Внести деньги\n",
            "3. Снять деньги\n",
            "4. Проверить баланс\n",
            "5. Перевести деньги с 1 счёта на другой\n",
            "6. Выход\n",
            "\n",
            "2\n",
            "Введите номер счета для депозита начиная с единицы: 2\n",
            "Введите сумму депозита: 500\n",
            "Баланс счёта Стас - 500.0 рублей\n",
            "\n",
            "Банковская система\n",
            "1. Создать счет\n",
            "2. Внести деньги\n",
            "3. Снять деньги\n",
            "4. Проверить баланс\n",
            "5. Перевести деньги с 1 счёта на другой\n",
            "6. Выход\n",
            "\n",
            "6\n"
          ]
        }
      ]
    }
  ]
}