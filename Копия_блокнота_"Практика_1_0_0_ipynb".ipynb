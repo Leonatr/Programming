{
  "nbformat": 4,
  "nbformat_minor": 0,
  "metadata": {
    "colab": {
      "provenance": [],
      "include_colab_link": true
    },
    "kernelspec": {
      "name": "python3",
      "display_name": "Python 3"
    },
    "language_info": {
      "name": "python"
    }
  },
  "cells": [
    {
      "cell_type": "markdown",
      "metadata": {
        "id": "view-in-github",
        "colab_type": "text"
      },
      "source": [
        "<a href=\"https://colab.research.google.com/github/Leonatr/Programming/blob/main/%D0%9A%D0%BE%D0%BF%D0%B8%D1%8F_%D0%B1%D0%BB%D0%BE%D0%BA%D0%BD%D0%BE%D1%82%D0%B0_%22%D0%9F%D1%80%D0%B0%D0%BA%D1%82%D0%B8%D0%BA%D0%B0_1_0_0_ipynb%22.ipynb\" target=\"_parent\"><img src=\"https://colab.research.google.com/assets/colab-badge.svg\" alt=\"Open In Colab\"/></a>"
      ]
    },
    {
      "cell_type": "markdown",
      "source": [
        "ФИО: Леонов Илья Сергеевич\n"
      ],
      "metadata": {
        "id": "fLDS5f_mCnPa"
      }
    },
    {
      "cell_type": "markdown",
      "source": [
        "# Задание (совместное с преподавателем)\n",
        "\n",
        "\n"
      ],
      "metadata": {
        "id": "-CSHUbWzCqeM"
      }
    },
    {
      "cell_type": "markdown",
      "source": [
        "Напишите систему для учёта отпусков с возможностью узнавать, сколько дней отпуска осталось у того или иного сотрудника.\n",
        "Для этого создайте класс Employee со следующими методами:\n",
        "\n",
        "- Метод consume_vacation должен отвечать за списание дней отпуска.\n",
        "\n",
        "Единственный параметр этого метода (кроме self) — количество потраченных отпускных дней (целое число).\n",
        "\n",
        "При вызове метода consume_vacation соответствующее количество дней должно вычитаться из общего числа доступных отпускных дней сотрудника.\n",
        "\n",
        "Чтобы определить число доступных отпускных дней конкретного сотрудника, в классе опишите атрибут экземпляра |, который по умолчанию будет равен значению атрибута класса vacation_days, и используйте этот атрибут в работе метода.\n",
        "\n",
        "- Метод get_vacation_details должен возвращать остаток отпускных дней сотрудника в формате: ```Остаток отпускных дней: <число>.```\n",
        "\n",
        "\n",
        "Чтобы проверить работу программы:\n",
        "1. Создайте экземпляр класса Employee.\n",
        "2. Вызовите метод consume_vacation, указав подходящее значение аргумента, например 7.\n",
        "3. Вызовите метод get_vacation_details."
      ],
      "metadata": {
        "id": "a_flBjZOCwYz"
      }
    },
    {
      "cell_type": "code",
      "source": [
        "class Employee:\n",
        "    vacation_days = 28\n",
        "\n",
        "    def __init__(self, first_name, second_name, gender):\n",
        "        self.first_name = first_name\n",
        "        self.second_name = second_name\n",
        "        self.gender = gender\n",
        "        self.remaining_vacation_days = self.vacation_days\n",
        "\n",
        "    def consume_vacation(self, days):\n",
        "        self.remaining_vacation_days -= days\n",
        "\n",
        "    def get_vacation_details(self):\n",
        "        return f'Остаток отпускных дней: {self.remaining_vacation_days}.'\n",
        "\n",
        "\n",
        "employee1 = Employee('Иван', 'Иванов', 'м')\n",
        "employee2 = Employee('Анна', 'Иванова', 'ж')\n",
        "\n",
        "print(employee1.first_name, employee1.get_vacation_details())\n",
        "print(employee1.first_name, 'уехал в отпуск на 7 дней')\n",
        "\n",
        "employee1.consume_vacation(7)\n",
        "\n",
        "print(employee1.first_name, employee1.get_vacation_details(),'\\n')\n",
        "\n",
        "print(employee2.first_name, employee2.get_vacation_details())\n",
        "print(employee2.first_name, 'уехалa в отпуск на 10 дней')\n",
        "\n",
        "employee2.consume_vacation(10)\n",
        "\n",
        "print(employee2.first_name, employee2.get_vacation_details())"
      ],
      "metadata": {
        "id": "2TyRY9a1XCOu",
        "colab": {
          "base_uri": "https://localhost:8080/"
        },
        "outputId": "88169174-b37f-4750-9796-57d471a52cf9"
      },
      "execution_count": null,
      "outputs": [
        {
          "output_type": "stream",
          "name": "stdout",
          "text": [
            "Иван Остаток отпускных дней: 28.\n",
            "Иван уехал в отпуск на 7 дней\n",
            "Иван Остаток отпускных дней: 21. \n",
            "\n",
            "Анна Остаток отпускных дней: 28.\n",
            "Анна уехалa в отпуск на 10 дней\n",
            "Анна Остаток отпускных дней: 18.\n"
          ]
        }
      ]
    },
    {
      "cell_type": "markdown",
      "source": [
        "# Задание 1"
      ],
      "metadata": {
        "id": "C0Z_wXo9XIr2"
      }
    },
    {
      "cell_type": "markdown",
      "source": [
        "Задание:\n",
        "\n",
        "Создайте класс с именем Rectangle который имеет:\n",
        "- Атрибуты ширины и высоты.\n",
        "- Метод расчета площади.\n",
        "- Метод расчета периметра.\n",
        "- Метод отображения размеров прямоугольника.\n",
        "\n",
        "Создайте экземпляр класса Rectangleи продемонстрируйте его функциональность."
      ],
      "metadata": {
        "id": "jQ4qqd8nEZBY"
      }
    },
    {
      "cell_type": "code",
      "source": [
        "class Rectangle:\n",
        "    def __init__(self, width, height):\n",
        "        self.width = width\n",
        "        self.height = height\n",
        "\n",
        "    def square(self):\n",
        "        return self.width*self.height\n",
        "\n",
        "    def perimeter(self):\n",
        "        return self.width*2 + self.height*2\n",
        "\n",
        "    def size(self):\n",
        "        return f'Размеры прямоугольника: Ширина: {self.width}см, Высота: {self.height}см'\n",
        "\n",
        "\n",
        "rectangle1 = Rectangle(10,5)\n",
        "print('Площадь прямоугольника:', rectangle1.square())\n",
        "print('Периметр прямоугольника:', rectangle1.perimeter())\n",
        "print(rectangle1.size())\n"
      ],
      "metadata": {
        "id": "dG6uNPqTEAvt",
        "colab": {
          "base_uri": "https://localhost:8080/"
        },
        "outputId": "0ebac702-6f1d-4d69-cfd4-c2196cccaf2c"
      },
      "execution_count": null,
      "outputs": [
        {
          "output_type": "stream",
          "name": "stdout",
          "text": [
            "Площадь прямоугольника: 50\n",
            "Периметр прямоугольника: 30\n",
            "Размеры прямоугольника: Ширина: 10см, Высота: 5см\n"
          ]
        }
      ]
    },
    {
      "cell_type": "markdown",
      "source": [
        "# Задание 2"
      ],
      "metadata": {
        "id": "0ct1u6lqE73j"
      }
    },
    {
      "cell_type": "markdown",
      "source": [
        "Задание: Создайте мини версию банковской системы:\n",
        "\n",
        "\n",
        "Инструкции:\n",
        "\n",
        "1. Создайте класс BankAccountсо следующими атрибутами:\n",
        "    - account_holder -  владелец счета\n",
        "    - balance - баланс счета\n",
        "\n",
        "2. Реализуйте следующие методы:\n",
        "    - Метод для инициализации владельца счета: имя владельца счета и установите начальный баланс на 0.\n",
        "    - deposit(amount): Добавьте указанную сумму к балансу.\n",
        "    - withdraw(amount): Вычесть указанную сумму из баланса, если средств достаточно; в противном случае вывести предупреждение.\n",
        "    - get_balance(): Возврат текущего баланса.\n",
        "\n",
        "\n",
        "Создайте объект класса и продемонстрируйте его возможности"
      ],
      "metadata": {
        "id": "FOpIpcLxE-WK"
      }
    },
    {
      "cell_type": "markdown",
      "source": [],
      "metadata": {
        "id": "tqmzXbrvTRrQ"
      }
    },
    {
      "cell_type": "code",
      "source": [
        "class BankAccountсо:\n",
        "    def __init__(self, account_holder, balance):\n",
        "        self.account_holder = account_holder\n",
        "        self.balance = balance\n",
        "\n",
        "    def deposit(self):\n",
        "        deposit = int(input('Введите сумму: '))\n",
        "        self.balance += deposit\n",
        "\n",
        "    def withdraw(self):\n",
        "        withdraw = int(input('Введите сумму: '))\n",
        "        if self.balance >= withdraw:\n",
        "            self.balance -= withdraw\n",
        "        else:\n",
        "            print('Простите, на счету недостаточно средств')\n",
        "\n",
        "    def get_balance(self):\n",
        "        return f'Ваш баланс: {self.balance}'\n",
        "\n",
        "user_name = input('Введите имя владельца счёта: ')\n",
        "user1 = BankAccountсо(user_name, 0)\n",
        "\n",
        "while True:\n",
        "    action = input('''\n",
        "Что вы хотите сделать?\n",
        "1. Положить деньги на счёт\n",
        "2. Снять деньги со счёта\n",
        "3. Посмотреть баланс счёта\n",
        "4. Выйти из системы\n",
        "''')\n",
        "\n",
        "    if action == '1':\n",
        "        user1.deposit()\n",
        "    elif action == '2':\n",
        "        user1.withdraw()\n",
        "    elif action == '3':\n",
        "        print(user1.get_balance())\n",
        "    elif action == '4':\n",
        "        break\n",
        "\n",
        "#Не понял как сделать с нескольким количеством аккаунтов, поэтому сделал только с 1\n",
        "\n"
      ],
      "metadata": {
        "id": "WWXNIUrCE99W",
        "colab": {
          "base_uri": "https://localhost:8080/",
          "height": 790
        },
        "outputId": "8485fb6f-abd2-4e77-cd79-9b0dce51410a"
      },
      "execution_count": null,
      "outputs": [
        {
          "output_type": "stream",
          "name": "stdout",
          "text": [
            "Введите имя владельца счёта: Иляь\n",
            "\n",
            "Что вы хотите сделать?\n",
            "1. Положить деньги на счёт\n",
            "2. Снять деньги со счёта\n",
            "3. Посмотреть баланс счёта\n",
            "4. Выйти из системы\n",
            "1\n",
            "Введите сумму: 300\n",
            "\n",
            "Что вы хотите сделать?\n",
            "1. Положить деньги на счёт\n",
            "2. Снять деньги со счёта\n",
            "3. Посмотреть баланс счёта\n",
            "4. Выйти из системы\n",
            "2\n",
            "Введите сумму: 100\n",
            "\n",
            "Что вы хотите сделать?\n",
            "1. Положить деньги на счёт\n",
            "2. Снять деньги со счёта\n",
            "3. Посмотреть баланс счёта\n",
            "4. Выйти из системы\n",
            "3\n",
            "Ваш баланс: 200\n"
          ]
        },
        {
          "output_type": "error",
          "ename": "KeyboardInterrupt",
          "evalue": "Interrupted by user",
          "traceback": [
            "\u001b[0;31m---------------------------------------------------------------------------\u001b[0m",
            "\u001b[0;31mKeyboardInterrupt\u001b[0m                         Traceback (most recent call last)",
            "\u001b[0;32m<ipython-input-3-2af7e6b79415>\u001b[0m in \u001b[0;36m<cell line: 23>\u001b[0;34m()\u001b[0m\n\u001b[1;32m     22\u001b[0m \u001b[0;34m\u001b[0m\u001b[0m\n\u001b[1;32m     23\u001b[0m \u001b[0;32mwhile\u001b[0m \u001b[0;32mTrue\u001b[0m\u001b[0;34m:\u001b[0m\u001b[0;34m\u001b[0m\u001b[0;34m\u001b[0m\u001b[0m\n\u001b[0;32m---> 24\u001b[0;31m     action = input('''\n\u001b[0m\u001b[1;32m     25\u001b[0m \u001b[0mЧто\u001b[0m \u001b[0mвы\u001b[0m \u001b[0mхотите\u001b[0m \u001b[0mсделать\u001b[0m\u001b[0;31m?\u001b[0m\u001b[0;34m\u001b[0m\u001b[0;34m\u001b[0m\u001b[0m\n\u001b[1;32m     26\u001b[0m \u001b[0;36m1.\u001b[0m \u001b[0mПоложить\u001b[0m \u001b[0mденьги\u001b[0m \u001b[0mна\u001b[0m \u001b[0mсчёт\u001b[0m\u001b[0;34m\u001b[0m\u001b[0;34m\u001b[0m\u001b[0m\n",
            "\u001b[0;32m/usr/local/lib/python3.10/dist-packages/ipykernel/kernelbase.py\u001b[0m in \u001b[0;36mraw_input\u001b[0;34m(self, prompt)\u001b[0m\n\u001b[1;32m    849\u001b[0m                 \u001b[0;34m\"raw_input was called, but this frontend does not support input requests.\"\u001b[0m\u001b[0;34m\u001b[0m\u001b[0;34m\u001b[0m\u001b[0m\n\u001b[1;32m    850\u001b[0m             )\n\u001b[0;32m--> 851\u001b[0;31m         return self._input_request(str(prompt),\n\u001b[0m\u001b[1;32m    852\u001b[0m             \u001b[0mself\u001b[0m\u001b[0;34m.\u001b[0m\u001b[0m_parent_ident\u001b[0m\u001b[0;34m,\u001b[0m\u001b[0;34m\u001b[0m\u001b[0;34m\u001b[0m\u001b[0m\n\u001b[1;32m    853\u001b[0m             \u001b[0mself\u001b[0m\u001b[0;34m.\u001b[0m\u001b[0m_parent_header\u001b[0m\u001b[0;34m,\u001b[0m\u001b[0;34m\u001b[0m\u001b[0;34m\u001b[0m\u001b[0m\n",
            "\u001b[0;32m/usr/local/lib/python3.10/dist-packages/ipykernel/kernelbase.py\u001b[0m in \u001b[0;36m_input_request\u001b[0;34m(self, prompt, ident, parent, password)\u001b[0m\n\u001b[1;32m    893\u001b[0m             \u001b[0;32mexcept\u001b[0m \u001b[0mKeyboardInterrupt\u001b[0m\u001b[0;34m:\u001b[0m\u001b[0;34m\u001b[0m\u001b[0;34m\u001b[0m\u001b[0m\n\u001b[1;32m    894\u001b[0m                 \u001b[0;31m# re-raise KeyboardInterrupt, to truncate traceback\u001b[0m\u001b[0;34m\u001b[0m\u001b[0;34m\u001b[0m\u001b[0m\n\u001b[0;32m--> 895\u001b[0;31m                 \u001b[0;32mraise\u001b[0m \u001b[0mKeyboardInterrupt\u001b[0m\u001b[0;34m(\u001b[0m\u001b[0;34m\"Interrupted by user\"\u001b[0m\u001b[0;34m)\u001b[0m \u001b[0;32mfrom\u001b[0m \u001b[0;32mNone\u001b[0m\u001b[0;34m\u001b[0m\u001b[0;34m\u001b[0m\u001b[0m\n\u001b[0m\u001b[1;32m    896\u001b[0m             \u001b[0;32mexcept\u001b[0m \u001b[0mException\u001b[0m \u001b[0;32mas\u001b[0m \u001b[0me\u001b[0m\u001b[0;34m:\u001b[0m\u001b[0;34m\u001b[0m\u001b[0;34m\u001b[0m\u001b[0m\n\u001b[1;32m    897\u001b[0m                 \u001b[0mself\u001b[0m\u001b[0;34m.\u001b[0m\u001b[0mlog\u001b[0m\u001b[0;34m.\u001b[0m\u001b[0mwarning\u001b[0m\u001b[0;34m(\u001b[0m\u001b[0;34m\"Invalid Message:\"\u001b[0m\u001b[0;34m,\u001b[0m \u001b[0mexc_info\u001b[0m\u001b[0;34m=\u001b[0m\u001b[0;32mTrue\u001b[0m\u001b[0;34m)\u001b[0m\u001b[0;34m\u001b[0m\u001b[0;34m\u001b[0m\u001b[0m\n",
            "\u001b[0;31mKeyboardInterrupt\u001b[0m: Interrupted by user"
          ]
        }
      ]
    },
    {
      "cell_type": "markdown",
      "source": [
        "# Задание 3"
      ],
      "metadata": {
        "id": "C5DX5Uf2FfP6"
      }
    },
    {
      "cell_type": "markdown",
      "source": [
        "Возьмите код и задание (Рыцарь и дракон) из предыдущей практики и реализуйте его с применением классов"
      ],
      "metadata": {
        "id": "0cR-MYepFgz6"
      }
    },
    {
      "cell_type": "code",
      "source": [
        "from random import randint\n",
        "\n",
        "class KnightAndDrago():\n",
        "    def __init__(self, name, armor, weapon, damage, health):\n",
        "        self.name = name\n",
        "        self.armor = armor\n",
        "        self.weapon = weapon\n",
        "        self.damage = damage\n",
        "        self.health = health\n",
        "\n",
        "    def fight(self):\n",
        "        drago.health -= (knight.damage + randint(-15,15))\n",
        "\n",
        "        print('Дракон бьёт в ответ\\n')\n",
        "\n",
        "        if drago.damage > knight.armor :\n",
        "            real_damage = (drago.damage + randint(-15,15)) - knight.armor\n",
        "            knight.health -= real_damage\n",
        "            knight.armor = 0\n",
        "        else:\n",
        "            knight.armor -= (drago.damage + randint(-15,15))\n",
        "\n",
        "        if drago.health < 0:\n",
        "            drago.health = 0\n",
        "        if knight.health < 0:\n",
        "            knight.health = 0\n",
        "\n",
        "        print('Броня Святослава:', knight.armor)\n",
        "        print('Здоровье Святослава:', knight.health)\n",
        "        print('Здоровье Дракона:', drago.health)\n",
        "\n",
        "    def health_potion(self):\n",
        "        knight.health += 100\n",
        "        print('Здоровье Святослава:', knight.health)\n",
        "\n",
        "    def new_armor(self):\n",
        "        knight.armor = 100\n",
        "        print('Броня Святослава:', knight.armor)\n",
        "\n",
        "\n",
        "knight = KnightAndDrago('Святослав', 100, 'Православный лук', 50, 100)\n",
        "drago = KnightAndDrago('Смауг', 0, 'Огонь', 60, 500)\n",
        "\n",
        "print('Гордый рыцарь Святослав вооружившись православным луком решил отбить одинокую гору у ужасного дракона Смауга. Он подошёл к горе и задул в рог. На этот шум дракон вылетел из пещеры и начался бой:')\n",
        "\n",
        "while True:\n",
        "    choice = input(\n",
        "'''\n",
        "Выберите действие:\n",
        "1. Атаковать\n",
        "2. Использовать зелье здоровья\n",
        "3. Обновить броню\n",
        "''')\n",
        "\n",
        "    if choice == '1':\n",
        "        knight.fight()\n",
        "\n",
        "    elif choice == '2':\n",
        "        knight.health_potion()\n",
        "    elif choice == '3':\n",
        "        knight.new_armor()\n",
        "    if drago.health <= 0:\n",
        "        print('\\nСвятослав одолел Смауга и забрал все его богатства')\n",
        "        break\n",
        "    elif knight.health <= 0:\n",
        "        print('\\nСвятослав пал в бою с Драконом')\n",
        "        break\n",
        "\n",
        "\n",
        "\n",
        "\n"
      ],
      "metadata": {
        "id": "Oz9BZbhAFwua",
        "colab": {
          "base_uri": "https://localhost:8080/"
        },
        "outputId": "50645b2b-73ca-46b4-918e-11bb648b0ccf"
      },
      "execution_count": null,
      "outputs": [
        {
          "output_type": "stream",
          "name": "stdout",
          "text": [
            "Гордый рыцарь Святослав вооружившись православным луком решил отбить одинокую гору у ужасного дракона Смауга. Он подошёл к горе и задул в рог. На этот шум дракон вылетел из пещеры и начался бой:\n",
            "\n",
            "Выберите действие:\n",
            "1. Атаковать\n",
            "2. Использовать зелье здоровья\n",
            "3. Обновить броню\n",
            "1\n",
            "Дракон бьёт в ответ\n",
            "\n",
            "Броня Святослава: 39\n",
            "Здоровье Святослава: 100\n",
            "Здоровье Дракона: 440\n",
            "\n",
            "Выберите действие:\n",
            "1. Атаковать\n",
            "2. Использовать зелье здоровья\n",
            "3. Обновить броню\n",
            "1\n",
            "Дракон бьёт в ответ\n",
            "\n",
            "Броня Святослава: 0\n",
            "Здоровье Святослава: 86\n",
            "Здоровье Дракона: 383\n",
            "\n",
            "Выберите действие:\n",
            "1. Атаковать\n",
            "2. Использовать зелье здоровья\n",
            "3. Обновить броню\n",
            "1\n",
            "Дракон бьёт в ответ\n",
            "\n",
            "Броня Святослава: 0\n",
            "Здоровье Святослава: 23\n",
            "Здоровье Дракона: 326\n",
            "\n",
            "Выберите действие:\n",
            "1. Атаковать\n",
            "2. Использовать зелье здоровья\n",
            "3. Обновить броню\n",
            "1\n",
            "Дракон бьёт в ответ\n",
            "\n",
            "Броня Святослава: 0\n",
            "Здоровье Святослава: 0\n",
            "Здоровье Дракона: 273\n",
            "\n",
            "Святослав пал в бою с Драконом\n"
          ]
        }
      ]
    },
    {
      "cell_type": "markdown",
      "source": [
        "# Дополнительное задание\n"
      ],
      "metadata": {
        "id": "b_mJHXcQGI9t"
      }
    },
    {
      "cell_type": "markdown",
      "source": [
        "Задача: Система управления библиотекой\n",
        "\n",
        "**Цель**\n",
        "Создайте простую систему управления библиотекой, которая позволит пользователям добавлять книги, брать книги, возвращать книги и просматривать список доступных книг.\n",
        "\n",
        "**Требования**\n",
        "\n",
        "1. **Определение класса**:\n",
        "   – Создайте класс с именем «Book» со следующими атрибутами:\n",
        "     - `title`\n",
        "     - `автор`\n",
        "     - `isbn`\n",
        "     - `is_borrowed` (по умолчанию `False`)\n",
        "\n",
        "2. **Класс библиотеки**:\n",
        "   - Создайте класс с именем Library, который управляет коллекцией книг.\n",
        "   - Класс должен иметь следующие методы:\n",
        "     - `__init__(self)`: инициализирует пустой список книг.\n",
        "     - `add_book(self, book: Book)`: добавляет новую книгу в библиотеку.\n",
        "     - `borrow_book(self, isbn: str)`: помечает книгу как заимствованную. Если книга не найдена или уже взята, выведите соответствующее сообщение.\n",
        "     - `return_book(self, isbn: str)`: помечает книгу как возвращенную. Если книга не найдена или не была взята взаймы, выведите соответствующее сообщение.\n",
        "     - `list_available_books(self)`: печатает список всех доступных книг в библиотеке.\n",
        "     - `find_book(self, isbn: str)`: возвращает объект книги, если он найден, в противном случае возвращает `None`.\n",
        "\n",
        "3. **Взаимодействие с пользователем**:\n",
        "   - Создайте простое текстовое меню, которое позволит пользователям:\n",
        "     - Добавить книгу\n",
        "     - Одолжить книгу\n",
        "     - Вернуть книгу\n",
        "     - Список доступных книг\n",
        "     - Выйти из программы"
      ],
      "metadata": {
        "id": "pnIUdFPcGOVL"
      }
    },
    {
      "cell_type": "code",
      "source": [],
      "metadata": {
        "id": "GKKmdfN8GL6f"
      },
      "execution_count": null,
      "outputs": []
    },
    {
      "cell_type": "code",
      "source": [],
      "metadata": {
        "id": "ZXOWt9LeqWx0"
      },
      "execution_count": null,
      "outputs": []
    }
  ]
}